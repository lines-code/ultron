{
 "cells": [
  {
   "cell_type": "markdown",
   "id": "34b76b3a",
   "metadata": {},
   "source": [
    "### Neo4J Query Sample "
   ]
  },
  {
   "cell_type": "markdown",
   "id": "72b217f9",
   "metadata": {},
   "source": [
    "```\n",
    "MATCH (n:Employee) REMOVE n.employeeEmbedding\n",
    "```"
   ]
  },
  {
   "cell_type": "markdown",
   "id": "9815feb8",
   "metadata": {},
   "source": [
    "```\n",
    "MATCH (n:Employee) RETURN n LIMIT 25\n",
    "```"
   ]
  }
 ],
 "metadata": {
  "language_info": {
   "name": "python"
  }
 },
 "nbformat": 4,
 "nbformat_minor": 5
}
