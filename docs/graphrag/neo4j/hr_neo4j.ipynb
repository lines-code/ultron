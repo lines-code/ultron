{
 "cells": [
  {
   "cell_type": "markdown",
   "id": "2f514a7fd71e4059",
   "metadata": {},
   "source": [
    "# Human Resources Graph Database with Neo4j"
   ]
  },
  {
   "cell_type": "markdown",
   "id": "6e5d0a28",
   "metadata": {},
   "source": [
    "#### Dependany Install"
   ]
  },
  {
   "cell_type": "code",
   "execution_count": 3,
   "id": "45b6226cf4662ae4",
   "metadata": {
    "ExecuteTime": {
     "end_time": "2025-06-05T10:44:33.775647Z",
     "start_time": "2025-06-05T10:44:28.498805Z"
    }
   },
   "outputs": [],
   "source": [
    "%%capture\n",
    "\n",
    "# update or install the necessary libraries\n",
    "\n",
    "%pip install --upgrade numpy scipy pandas\n",
    "%pip install neo4j_genai neo4j openai\n",
    "%pip install --upgrade python-dotenv\n",
    "%pip install --upgrade \\\n",
    "    langchain==0.3.24 \\\n",
    "    langchain-openai==0.3.14 \\\n",
    "    langchain_community\n",
    "%pip install pyodbc --no-binary pyodbc\n",
    "%pip install sqlalchemy\n"
   ]
  },
  {
   "cell_type": "markdown",
   "id": "81371f6e",
   "metadata": {},
   "source": [
    "#### Check Python Executable "
   ]
  },
  {
   "cell_type": "code",
   "execution_count": 61,
   "id": "2941b60a",
   "metadata": {},
   "outputs": [
    {
     "name": "stdout",
     "output_type": "stream",
     "text": [
      "/opt/homebrew/opt/python@3.10/bin/python3.10\n"
     ]
    }
   ],
   "source": [
    "import sys\n",
    "print(sys.executable)"
   ]
  },
  {
   "cell_type": "markdown",
   "id": "70678f64",
   "metadata": {},
   "source": [
    "#### odbc 존재 여부 확인"
   ]
  },
  {
   "cell_type": "markdown",
   "id": "75b33bdd",
   "metadata": {},
   "source": [
    "```shell \n",
    "odbcinst -q -d\n",
    "\n",
    "cat /opt/homebrew/etc/odbcinst.ini\n",
    "```"
   ]
  },
  {
   "cell_type": "markdown",
   "id": "f0c42b65",
   "metadata": {},
   "source": [
    "#### 호출 가능 여부 체크 "
   ]
  },
  {
   "cell_type": "code",
   "execution_count": 75,
   "id": "6b94af4b",
   "metadata": {},
   "outputs": [
    {
     "name": "stdout",
     "output_type": "stream",
     "text": [
      "['ODBC Driver 18 for SQL Server']\n",
      "{}\n"
     ]
    }
   ],
   "source": [
    "import os \n",
    "\n",
    "os.environ[\"LD_LIBRARY_PATH\"] = \"/opt/homebrew/lib\"\n",
    "os.environ[\"DYLD_LIBRARY_PATH\"] = \"/opt/homebrew/lib\"\n",
    "\n",
    "import pyodbc\n",
    "print(pyodbc.drivers())\n",
    "print(pyodbc.dataSources())"
   ]
  },
  {
   "cell_type": "markdown",
   "id": "d4660f4898026041",
   "metadata": {},
   "source": [
    "## HR Resources Load"
   ]
  },
  {
   "cell_type": "markdown",
   "id": "ce56e6ccdc9028c0",
   "metadata": {},
   "source": [
    "#### Environment Variables Setup"
   ]
  },
  {
   "cell_type": "code",
   "execution_count": 5,
   "id": "c7cfda3fe3c62ba9",
   "metadata": {
    "ExecuteTime": {
     "end_time": "2025-06-05T10:51:21.591139Z",
     "start_time": "2025-06-05T10:51:21.578093Z"
    }
   },
   "outputs": [
    {
     "data": {
      "text/plain": [
       "True"
      ]
     },
     "execution_count": 5,
     "metadata": {},
     "output_type": "execute_result"
    }
   ],
   "source": [
    "from dotenv import load_dotenv\n",
    "\n",
    "load_dotenv()"
   ]
  },
  {
   "cell_type": "markdown",
   "id": "af006743d2eb0c6d",
   "metadata": {},
   "source": [
    "#### Load Test Data\n",
    "\n",
    "- SQL Alchemy를 사용하여 MSSQL 데이터베이스에 연결합니다.\n",
    "- `MSSQL_USER`, `MSSQL_PASSWORD`, `MSSQL_SERVER`, `MSSQL_PORT`, `MSSQL_DATABASE`, `MSSQL_DRIVER` 환경 변수를 사용하여 연결 정보를 설정합니다."
   ]
  },
  {
   "cell_type": "code",
   "execution_count": 6,
   "id": "b6888aa669b6c93c",
   "metadata": {
    "ExecuteTime": {
     "end_time": "2025-06-05T10:51:28.485914Z",
     "start_time": "2025-06-05T10:51:28.481675Z"
    }
   },
   "outputs": [],
   "source": [
    "import os\n",
    "from sqlalchemy import create_engine, text\n",
    "from sqlalchemy.engine import URL\n",
    "from sqlalchemy.orm import sessionmaker\n",
    "from sqlalchemy.exc import OperationalError\n",
    "\n",
    "# DSN URL 생성\n",
    "url = URL.create(\n",
    "    drivername=\"mssql+pyodbc\",\n",
    "    username=os.getenv(\"MSSQL_USER\", \"\"),\n",
    "    password=os.getenv(\"MSSQL_PASSWORD\", \"\"),\n",
    "    host=os.getenv(\"MSSQL_SERVER\", \"\"),\n",
    "    port=int(os.getenv(\"MSSQL_PORT\", \"\")),\n",
    "    database=os.getenv(\"MSSQL_DATABASE\", \"\"),\n",
    "    query={\n",
    "        \"driver\": os.getenv(\"MSSQL_DRIVER\", \"\"),\n",
    "        \"TrustServerCertificate\": \"yes\",\n",
    "    },\n",
    ")\n",
    "\n",
    "# SQLAlchemy 엔진 및 세션 생성 (동기용)\n",
    "engine = create_engine(url, pool_pre_ping=True, pool_recycle=1800)\n",
    "\n",
    "SessionLocal = sessionmaker(autocommit=False, autoflush=False, bind=engine)\n",
    "\n",
    "def get_db():\n",
    "    db = SessionLocal()\n",
    "    try:\n",
    "        # 연결 상태 체크\n",
    "        try:\n",
    "            db.execute(text(\"SELECT 1\"))\n",
    "        except OperationalError as e:\n",
    "            raise e\n",
    "        yield db\n",
    "    finally:\n",
    "        db.close()\n"
   ]
  },
  {
   "cell_type": "markdown",
   "id": "09082ca2",
   "metadata": {},
   "source": [
    "#### Load Table \n",
    "\n",
    "- HR Table loaded from MSSQL"
   ]
  },
  {
   "cell_type": "code",
   "execution_count": 7,
   "id": "52a20712",
   "metadata": {},
   "outputs": [],
   "source": [
    "from sqlalchemy import Column, String, Integer, Date, Boolean\n",
    "from sqlalchemy.orm import declarative_base\n",
    "\n",
    "Base = declarative_base()\n",
    "\n",
    "class PasWHrPsn001(Base):\n",
    "    __tablename__ = os.getenv(\"HR_TABLE_1\")\n",
    "    __table_args__ = {\"schema\": os.getenv(\"SCHEMA\")}\n",
    "\n",
    "    PERNR = Column(String, primary_key=True)\n",
    "    ENAME = Column(String)\n",
    "    EMP_STAT_CD = Column(String)\n",
    "    EMP_STAT_NM = Column(String)\n",
    "    GESCH = Column(String)\n",
    "    HIRE_TYPE_DIV = Column(String)\n",
    "    HIRE_TYPE_NM = Column(String)\n",
    "    FJOIN_DT = Column(String)\n",
    "    DEPTIN_DT = Column(String)\n",
    "    RETIRE_DT = Column(String)\n",
    "    PERSK = Column(String)\n",
    "    PERSKNM = Column(String)\n",
    "    BIZUNIT_CD = Column(String)\n",
    "    BIZUNIT_NM = Column(String)\n",
    "    DEPT_CD = Column(String)\n",
    "    DEPT_NM = Column(String)\n",
    "    DEPT_FULL_NM = Column(String)\n",
    "    APTITLE_CD = Column(String)\n",
    "    APTITLE_NM = Column(String)\n",
    "    APTITLE_ORDER = Column(String)\n",
    "    ORG_HEAD_YN = Column(Boolean)\n",
    "    CUR_APCLASS_PRM_DT = Column(String)\n",
    "    APCLASS_CD = Column(String)\n",
    "    APCLASS_NM = Column(String)\n",
    "    APCLASS_ODRG = Column(String)\n",
    "    APLEVEL_CD = Column(String)\n",
    "    APLEVEL_NM = Column(String)\n",
    "    CHIEF_DIV = Column(String)\n",
    "    START_JOB_DT = Column(String)\n",
    "    STELL_CD = Column(String)\n",
    "    STELL_NM = Column(String)\n",
    "    APCOLUM_CD = Column(String)\n",
    "    APCOLUM_NM = Column(String)\n",
    "    EMAIL_ID = Column(String)\n",
    "    CELL_OPEN_YN = Column(String)\n",
    "    CELLPHONE_NO = Column(String)\n",
    "    PHONE_NO = Column(String)\n",
    "    HOME_ZIPCD = Column(String)\n",
    "    RESI_ADDR = Column(String)\n",
    "    RESI_AREA_CD = Column(String)\n",
    "    RESI_AREA_NM = Column(String)\n",
    "    SOCIALO_ZIPCD = Column(String)\n",
    "    SOCIALO_ADDR = Column(String)\n",
    "    SOCIALO_AREA_CD = Column(String)\n",
    "    SOCIALO_AREA_NM = Column(String)\n",
    "    COMP_ZIPCD = Column(String)\n",
    "    COMP_ADDR = Column(String)\n",
    "    COMP_FAXNR = Column(String)\n",
    "    COMP_TEL_NO = Column(String)\n",
    "    OFFICE_TEL_NO = Column(String)\n",
    "    BEBORN_DT = Column(String)\n",
    "    BIRTH_GB = Column(String)\n",
    "    BIRTH_GB_NM = Column(String)\n",
    "    FAM_DT = Column(String)\n",
    "    DWEL_TYPE = Column(String)\n",
    "    REC_SPEC_DESC = Column(String)\n",
    "    MLTRY_SRVC_DIV = Column(String)\n",
    "    DSBLTY_DT = Column(String)\n",
    "    DSBLTY_START_DT = Column(String)\n",
    "    DSBLTY_DIV = Column(String)\n",
    "    DSBLTY_TYPE_CD = Column(String)\n",
    "    DSBLTY_GRD = Column(String)\n",
    "    COUPLE_EMP_YN = Column(String)\n",
    "    LAST_GRAD_CD = Column(String)\n",
    "    LAST_GRAD_NM = Column(String)\n",
    "    LAST_SCHL_CD = Column(String)\n",
    "    LAST_SCHL_NM = Column(String)\n",
    "    LAST_AUSBI_NM = Column(String)\n",
    "    DEGREE_CD = Column(String)\n",
    "    DEGREE_NM = Column(String)\n",
    "    GRADU_YEAR = Column(String)\n",
    "    ROLE_CD = Column(String)\n",
    "    ROLE_NM = Column(String)\n",
    "    WORK_TYPE_CD = Column(String)\n",
    "    WORK_TYPE_NM = Column(String)\n",
    "    WORK_STELL_CD = Column(String)\n",
    "    WORK_STELL_NM = Column(String)\n",
    "    WORK_LVL1_CD = Column(String)\n",
    "    WORK_LVL1_NM = Column(String)\n",
    "    WORK_LVL2_CD1 = Column(String)\n",
    "    WORK_LVL2_NM1 = Column(String)\n",
    "    WORK_LVL2_CD2 = Column(String)\n",
    "    WORK_LVL2_NM2 = Column(String)\n",
    "    INST_LVL1_CD = Column(String)\n",
    "    INST_LVL1_NM = Column(String)\n",
    "    INST_LVL2_CD = Column(String)\n",
    "    INST_LVL2_NM = Column(String)\n",
    "    TECH_LVL1_CD1 = Column(String)\n",
    "    TECH_LVL1_NM1 = Column(String)\n",
    "    TECH_LVL1_CD2 = Column(String)\n",
    "    TECH_LVL1_NM2 = Column(String)\n",
    "    PROD_LVL1_CD1 = Column(String)\n",
    "    PROD_LVL1_NM1 = Column(String)\n",
    "    PROD_LVL1_CD2 = Column(String)\n",
    "    PROD_LVL1_NM2 = Column(String)\n",
    "    MM_COST = Column(String)\n",
    "    ETL_SEQ = Column(Integer)\n",
    "    DTL_BIZ = Column(String)"
   ]
  },
  {
   "cell_type": "code",
   "execution_count": 8,
   "id": "e11ff2f8",
   "metadata": {},
   "outputs": [
    {
     "name": "stdout",
     "output_type": "stream",
     "text": [
      "노준혁 jeonggiyeok@kt.com\n"
     ]
    }
   ],
   "source": [
    "from sqlalchemy import create_engine\n",
    "from sqlalchemy.orm import sessionmaker, Session\n",
    "\n",
    "# DB Connection Information\n",
    "_db = next(get_db())\n",
    "\n",
    "# All Search \n",
    "# all_employees = _db.query(PasWHrPsn001).all()\n",
    "# for emp in all_employees:\n",
    "#     print(emp)\n",
    "\n",
    "# Conditional Search\n",
    "hr_members = _db.query(PasWHrPsn001).filter(PasWHrPsn001.ENAME == \"노준혁\").all()\n",
    "for emp in hr_members:\n",
    "    print(emp.ENAME, emp.EMAIL_ID)"
   ]
  },
  {
   "cell_type": "markdown",
   "id": "e1d79cee",
   "metadata": {},
   "source": [
    "#### Create Cypher Script and Insert to Neo4J only person\n",
    "\n",
    "- Make a Cypher script from MSSQL dynamically\n",
    "- Insert to Neo4J"
   ]
  },
  {
   "cell_type": "code",
   "execution_count": 15,
   "id": "2f7e44b3",
   "metadata": {},
   "outputs": [],
   "source": [
    "from neo4j import GraphDatabase, basic_auth\n",
    "from sqlalchemy.inspection import inspect\n",
    "from decimal import Decimal\n",
    "\n",
    "driver = GraphDatabase.driver(\n",
    "  \"bolt://localhost:7687\",\n",
    "  auth=basic_auth(\"neo4j\", \"dreamcometrue\")\n",
    ")\n",
    "\n",
    "# DB 연결 정보\n",
    "_db = next(get_db())\n",
    "\n",
    "database_name = os.getenv(\"NEO4J_DATABASE\")\n",
    "\n",
    "# Cypher 쿼리 생성 함수\n",
    "def generate_create_query(label: str, data: dict) -> (str, dict):\n",
    "    keys = list(data.keys())\n",
    "    result = []\n",
    "    for k in keys:\n",
    "        if k == \"ENAME\":\n",
    "            result.append(f\"name: ${k}\")\n",
    "        else:\n",
    "            result.append(f\"{k}: ${k}\")\n",
    "            \n",
    "    fields = \", \".join(result)\n",
    "    query = f\"CREATE (p:{label} {{ {fields} }})\"\n",
    "    return query, data\n",
    "\n",
    "\n",
    "# Neo4j Insertion Function\n",
    "def insert_person_to_neo4j(driver, person_data: dict):\n",
    "    query, params = generate_create_query(\"Employee\", person_data)\n",
    "    with driver.session(database=database_name) as session:\n",
    "        session.run(query, **params)\n",
    "\n",
    "# Neo4j Model To Dict\n",
    "def model_to_dict(obj):\n",
    "    result = {}\n",
    "    for c in inspect(obj).mapper.column_attrs:\n",
    "        value = getattr(obj, c.key)\n",
    "        # Decimal은 float 또는 str로 변환\n",
    "        if isinstance(value, Decimal):\n",
    "            value = float(value)  # 또는 str(value)\n",
    "        result[c.key] = value\n",
    "    return result\n",
    "\n",
    "# Driver Connect and Execution\n",
    "if __name__ == \"__main__\":\n",
    "    \n",
    "    hr_members = _db.query(PasWHrPsn001).all()\n",
    "    for employee_member in hr_members:\n",
    "        insert_person_to_neo4j(driver,  model_to_dict(employee_member))\n",
    "    driver.close()"
   ]
  },
  {
   "cell_type": "markdown",
   "id": "90c0201e",
   "metadata": {},
   "source": [
    "#### Make Embedding Vector "
   ]
  },
  {
   "cell_type": "code",
   "execution_count": null,
   "id": "869db108",
   "metadata": {},
   "outputs": [],
   "source": [
    "import openai\n",
    "from neo4j import GraphDatabase, basic_auth\n",
    "import os\n",
    "from sqlalchemy import inspect\n",
    "\n",
    "# DB 연결 정보\n",
    "_db = next(get_db())\n",
    "\n",
    "driver = GraphDatabase.driver(\n",
    "  \"bolt://localhost:7687\",\n",
    "  auth=basic_auth(\"neo4j\", \"dreamcometrue\")\n",
    ")\n",
    "\n",
    "column_filter = {\n",
    "    \"ENAME\" : \"\",\n",
    "    \"DEPT_FULL_NM\": \"\",\n",
    "    \"DEPT_NM\": \"\",\n",
    "    \"BIZUNIT_NM\": \"\",\n",
    "    \"WORK_LVL1_NM\": \"\",\n",
    "    \"WORK_LVL2_NM1\": \"\",\n",
    "    \"WORK_LVL2_NM2\": \"\",\n",
    "    \"TECH_LVL1_NM1\": \"\",\n",
    "}\n",
    "\n",
    "def generate_embedding(text):\n",
    "    embedding = openai.embeddings.create(input = [text], model=os.getenv(\"EMBEDDING_MODEL\")).data[0].embedding\n",
    "    return embedding\n",
    "\n",
    "# Generate Embedding to Employee\n",
    "def generate_embedding_employee(data: dict) -> (str):\n",
    "    keys = list(data.keys())    \n",
    "    result = []\n",
    "    for k in keys:\n",
    "        if k in column_filter:\n",
    "            result.append(f\"{data.get(k)}\")      \n",
    "    fields = \", \".join(result)\n",
    "    print(fields)\n",
    "    return fields\n",
    "\n",
    "# Neo4j Model To Dict\n",
    "def model_to_dict(obj):\n",
    "    result = {}\n",
    "    for c in inspect(obj).mapper.column_attrs:\n",
    "        value = getattr(obj, c.key)\n",
    "        # Decimal은 float 또는 str로 변환\n",
    "        if isinstance(value, Decimal):\n",
    "            value = float(value)  # 또는 str(value)\n",
    "        result[c.key] = value\n",
    "    return result\n",
    "\n",
    "with driver.session() as session:\n",
    "    hr_members = _db.query(PasWHrPsn001).all()\n",
    "    for employee_member in hr_members:\n",
    "        embedding_str = generate_embedding(generate_embedding_employee(model_to_dict(employee_member)))\n",
    "        session.run(\"MATCH (e:Employee) WHERE e.PERNR = $id SET e.employeeEmbedding = $embedding\", id=employee_member.PERNR, embedding=embedding_str)"
   ]
  },
  {
   "cell_type": "markdown",
   "id": "67d5cf4f",
   "metadata": {},
   "source": [
    "#### Create Vector Index"
   ]
  },
  {
   "cell_type": "markdown",
   "id": "5f6d8d9d",
   "metadata": {},
   "source": [
    "```\n",
    "CREATE VECTOR INDEX employeeEmbedding FOR (n:Employee) ON (n.employeeEmbedding) OPTIONS {indexConfig: {\n",
    " `vector.dimensions`: 1536,\n",
    " `vector.similarity_function`: 'cosine'\n",
    "}}\n",
    "```"
   ]
  },
  {
   "cell_type": "markdown",
   "id": "565a2256",
   "metadata": {},
   "source": [
    "```\n",
    "DROP INDEX employeeEmbedding IF EXISTS;\n",
    "```"
   ]
  },
  {
   "cell_type": "markdown",
   "id": "320478d6",
   "metadata": {},
   "source": [
    "#### Retrieval From GraphDB with Embedding"
   ]
  },
  {
   "cell_type": "code",
   "execution_count": 18,
   "id": "41f842fb",
   "metadata": {},
   "outputs": [],
   "source": [
    "from langchain.embeddings import OpenAIEmbeddings\n",
    "from neo4j import GraphDatabase, basic_auth\n",
    "import os\n",
    "\n",
    "from neo4j_genai.retrievers import VectorRetriever\n",
    "\n",
    "embedder = OpenAIEmbeddings(model=os.getenv(\"EMBEDDING_MODEL\"))\n",
    "\n",
    "driver = GraphDatabase.driver(\n",
    "  \"bolt://localhost:7687\",\n",
    "  auth=basic_auth(\"neo4j\", \"dreamcometrue\"),\n",
    "  database=\"neo4j\"\n",
    ")\n",
    "\n",
    "fields = [\n",
    "    \"PERNR\", \"name\", \"EMP_STAT_CD\", \"EMP_STAT_NM\", \"GESCH\", \"HIRE_TYPE_DIV\", \"HIRE_TYPE_NM\", \"FJOIN_DT\", \"DEPTIN_DT\", \"RETIRE_DT\",\n",
    "    \"PERSK\", \"PERSKNM\", \"BIZUNIT_CD\", \"BIZUNIT_NM\", \"DEPT_CD\", \"DEPT_NM\", \"DEPT_FULL_NM\", \"APTITLE_CD\", \"APTITLE_NM\", \"APTITLE_ORDER\",\n",
    "    \"ORG_HEAD_YN\", \"CUR_APCLASS_PRM_DT\", \"APCLASS_CD\", \"APCLASS_NM\", \"APCLASS_ODRG\", \"APLEVEL_CD\", \"APLEVEL_NM\", \"CHIEF_DIV\",\n",
    "    \"START_JOB_DT\", \"STELL_CD\", \"STELL_NM\", \"APCOLUM_CD\", \"APCOLUM_NM\", \"EMAIL_ID\", \"CELL_OPEN_YN\", \"CELLPHONE_NO\", \"PHONE_NO\",\n",
    "    \"HOME_ZIPCD\", \"RESI_ADDR\", \"RESI_AREA_CD\", \"RESI_AREA_NM\", \"SOCIALO_ZIPCD\", \"SOCIALO_ADDR\", \"SOCIALO_AREA_CD\", \"SOCIALO_AREA_NM\",\n",
    "    \"COMP_ZIPCD\", \"COMP_ADDR\", \"COMP_FAXNR\", \"COMP_TEL_NO\", \"OFFICE_TEL_NO\", \"BEBORN_DT\", \"BIRTH_GB\", \"BIRTH_GB_NM\", \"FAM_DT\",\n",
    "    \"DWEL_TYPE\", \"REC_SPEC_DESC\", \"MLTRY_SRVC_DIV\", \"DSBLTY_DT\", \"DSBLTY_START_DT\", \"DSBLTY_DIV\", \"DSBLTY_TYPE_CD\", \"DSBLTY_GRD\",\n",
    "    \"COUPLE_EMP_YN\", \"LAST_GRAD_CD\", \"LAST_GRAD_NM\", \"LAST_SCHL_CD\", \"LAST_SCHL_NM\", \"LAST_AUSBI_NM\", \"DEGREE_CD\", \"DEGREE_NM\",\n",
    "    \"GRADU_YEAR\", \"ROLE_CD\", \"ROLE_NM\", \"WORK_TYPE_CD\", \"WORK_TYPE_NM\", \"WORK_STELL_CD\", \"WORK_STELL_NM\", \"WORK_LVL1_CD\", \"WORK_LVL1_NM\",\n",
    "    \"WORK_LVL2_CD1\", \"WORK_LVL2_NM1\", \"WORK_LVL2_CD2\", \"WORK_LVL2_NM2\", \"INST_LVL1_CD\", \"INST_LVL1_NM\", \"INST_LVL2_CD\", \"INST_LVL2_NM\",\n",
    "    \"TECH_LVL1_CD1\", \"TECH_LVL1_NM1\", \"TECH_LVL1_CD2\", \"TECH_LVL1_NM2\", \"PROD_LVL1_CD1\", \"PROD_LVL1_NM1\", \"PROD_LVL1_CD2\",\n",
    "    \"PROD_LVL1_NM2\", \"MM_COST\", \"ETL_SEQ\", \"DTL_BIZ\"\n",
    "]\n",
    "\n",
    "retriever = VectorRetriever(\n",
    "    driver,\n",
    "    index_name=\"employeeEmbedding\",\n",
    "    embedder=embedder,\n",
    "    return_properties=fields,\n",
    ")"
   ]
  },
  {
   "cell_type": "markdown",
   "id": "a4cb4364",
   "metadata": {},
   "source": [
    "#### Retrieve Query"
   ]
  },
  {
   "cell_type": "code",
   "execution_count": null,
   "id": "c538c8ec",
   "metadata": {},
   "outputs": [],
   "source": [
    "import ast\n",
    "\n",
    "query_text = \"AI본부\" \n",
    "retriever_results = retriever.search(query_text=query_text, top_k=3)\n",
    "print(f\"길이 : {len(retriever_results.items)}\" )\n",
    "\n",
    "column_filter = {\n",
    "    \"name\" : \"\",\n",
    "    \"DEPT_FULL_NM\": \"\",\n",
    "    \"DEPT_NM\": \"\",\n",
    "    \"BIZUNIT_NM\": \"\",\n",
    "    \"WORK_LVL1_NM\": \"\",\n",
    "    \"WORK_LVL2_NM1\": \"\",\n",
    "    \"WORK_LVL2_NM2\": \"\",\n",
    "    \"TECH_LVL1_NM1\": \"\",\n",
    "}\n",
    "\n",
    "for item in retriever_results.items:\n",
    "  # 문자열을 안전하게 딕셔너리로 변환\n",
    "  parsed_dict = ast.literal_eval(item.content)\n",
    "\n",
    "  template = \",\".join([ f'\"{field}\": {parsed_dict[field]}'for field in parsed_dict if field in column_filter])\n",
    "  print(template)\n",
    "  \n",
    "\n"
   ]
  }
 ],
 "metadata": {
  "kernelspec": {
   "display_name": "Python 3",
   "language": "python",
   "name": "python3"
  },
  "language_info": {
   "codemirror_mode": {
    "name": "ipython",
    "version": 3
   },
   "file_extension": ".py",
   "mimetype": "text/x-python",
   "name": "python",
   "nbconvert_exporter": "python",
   "pygments_lexer": "ipython3",
   "version": "3.10.18"
  }
 },
 "nbformat": 4,
 "nbformat_minor": 5
}
