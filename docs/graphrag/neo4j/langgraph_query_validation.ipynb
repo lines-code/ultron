{
 "cells": [
  {
   "cell_type": "markdown",
   "metadata": {},
   "source": [
    "# LangGraph와 GraphRAG를 활용한 검색 및 활용 방안 및 사례\n",
    "자연어 질의에 대해 중요 키워드를 추출하고, Dictionary 의미와 문서 내용을 비교해 검증하는 예제입니다."
   ]
  },
  {
   "cell_type": "markdown",
   "metadata": {},
   "source": [
    "이 과정이 가지는 중요한 의미는 유사도 또는 키워드 기반의 정보로 조회한 결과를 확장된 정보를 제공 할수 있다는 것 입니다.\n",
    "특정 조회된 정보를 바탕으로 확장된 연결관계를 구조화 할때 얻어지는 정보는 단순히 키워드 기반의 정보 조회보다 훨씬 더 많은 정보를 제공 할 수 있습니다.\n",
    "즉 해당인원의 프로젝트 수행이력, 연관된 사람들, 스팩, 투입된 프로젝트 수행 기간, 비용 등의 다양한 정보를 추가적으로 제안 및 제공 할 수 있습니다.\n",
    "\n",
    "GraphDB를 활용한 Relation 중심의 정보를 초기 질의 정보에서 연관관계를 맺는 확장된 정보에 대한 제공\n",
    "- 해당인원과 연관된 정보를 바탕으로 추가 질의 항목을 제안할 수 있는 방식으로 처리 가능함"
   ]
  },
  {
   "cell_type": "code",
   "execution_count": null,
   "metadata": {},
   "outputs": [],
   "source": [
    "# 필수 패키지 설치\n",
    "!pip install langgraph langchain openai neo4j pandas"
   ]
  },
  {
   "cell_type": "code",
   "execution_count": null,
   "metadata": {},
   "outputs": [],
   "source": [
    "# LangGraph 예제 구성\n",
    "from langgraph.graph import StateGraph, END\n",
    "from langchain_core.messages import HumanMessage\n",
    "from langchain.chat_models import ChatOpenAI\n",
    "from typing import TypedDict, List, Optional\n",
    "\n",
    "llm = ChatOpenAI(model=\"gpt-4o\")\n",
    "\n",
    "class State(TypedDict):\n",
    "    question: str\n",
    "    keywords: List[str]\n",
    "    definition: Optional[str]\n",
    "    vector_docs: List[str]\n",
    "    graph_docs: List[str]\n",
    "    is_valid: bool\n",
    "    final_answer: str"
   ]
  },
  {
   "cell_type": "code",
   "execution_count": null,
   "metadata": {},
   "outputs": [],
   "source": [
    "# 노드 정의 함수들\n",
    "def extract_keywords(state: State):\n",
    "    prompt = f\"다음 질문에서 핵심 키워드를 3개 이하로 추출해줘: '{state['question']}'\"\n",
    "    response = llm.invoke([HumanMessage(content=prompt)])\n",
    "    keywords = response.content.replace(\"\\n\", \"\").split(\", \")\n",
    "    return {\"keywords\": keywords}\n",
    "\n",
    "DICTIONARY = {\n",
    "    \"regularization\": \"과적합을 방지하기 위한 기법입니다.\",\n",
    "    \"overfitting\": \"모델이 학습 데이터에 과하게 적응한 상태입니다.\"\n",
    "}\n",
    "\n",
    "def lookup_dictionary(state: State):\n",
    "    for keyword in state[\"keywords\"]:\n",
    "        if keyword in DICTIONARY:\n",
    "            return {\"definition\": DICTIONARY[keyword]}\n",
    "    return {\"definition\": None}\n",
    "\n",
    "def vector_search(state: State):\n",
    "    return {\"vector_docs\": [f\"'{kw}'에 대한 기술 문서 요약입니다.\" for kw in state[\"keywords\"]]}\n",
    "\n",
    "def validate_answer(state: State):\n",
    "    prompt = (\n",
    "        f\"질문 키워드의 정의: {state['definition']}\\n\"\n",
    "        f\"검색된 문서 요약: {state['vector_docs'] + state['graph_docs']}\\n\"\n",
    "        f\"이 문서들이 키워드 정의와 일치합니까? 맞으면 true, 아니면 false\"\n",
    "    )\n",
    "    response = llm.invoke([HumanMessage(content=prompt)])\n",
    "    is_valid = \"true\" in response.content.lower()\n",
    "    return {\"is_valid\": is_valid}\n",
    "\n",
    "def format_final_answer(state: State):\n",
    "    if state[\"is_valid\"]:\n",
    "        return {\"final_answer\": f\"키워드 '{state['keywords']}'에 대한 정확한 정보는 다음과 같습니다:\\n\\n{state['vector_docs'] + state['graph_docs']}\"}\n",
    "    else:\n",
    "        return {\"final_answer\": \"질문에 대한 정보는 사전에 정의된 의미와 일치하지 않습니다.\"}"
   ]
  },
  {
   "cell_type": "code",
   "execution_count": null,
   "metadata": {},
   "outputs": [],
   "source": [
    "from neo4j import GraphDatabase\n",
    "\n",
    "# Neo4j 드라이버 초기화\n",
    "NEO4J_URI = \"bolt://localhost:7687\"\n",
    "NEO4J_USER = \"neo4j\"\n",
    "NEO4J_PASSWORD = \"your_password\"\n",
    "\n",
    "driver = GraphDatabase.driver(NEO4J_URI, auth=(NEO4J_USER, NEO4J_PASSWORD))\n",
    "\n",
    "def graph_rag(state: State):\n",
    "    keywords = state[\"keywords\"]\n",
    "    docs = []\n",
    "\n",
    "    with driver.session() as session:\n",
    "        for keyword in keywords:\n",
    "            # 예시 Cypher 쿼리: 'Keyword' 노드를 기준으로 연결된 문서 반환\n",
    "            query = \"\"\"\n",
    "            MATCH (k:Keyword)-[:RELATED_TO]->(d:Document)\n",
    "            WHERE toLower(k.name) = toLower($keyword)\n",
    "            RETURN d.title AS title, d.summary AS summary\n",
    "            LIMIT 3\n",
    "            \"\"\"\n",
    "            results = session.run(query, keyword=keyword)\n",
    "            for record in results:\n",
    "                docs.append(f\"[{record['title']}] {record['summary']}\")\n",
    "\n",
    "    return {\"graph_docs\": docs}"
   ]
  },
  {
   "cell_type": "code",
   "execution_count": null,
   "metadata": {},
   "outputs": [],
   "source": [
    "# 그래프 정의 및 실행\n",
    "graph = StateGraph(State)\n",
    "graph.add_node(\"extract_keywords\", extract_keywords)\n",
    "graph.add_node(\"lookup_dictionary\", lookup_dictionary)\n",
    "graph.add_node(\"vector_search\", vector_search)\n",
    "graph.add_node(\"graph_rag\", graph_rag)\n",
    "graph.add_node(\"validate_answer\", validate_answer)\n",
    "graph.add_node(\"format_final_answer\", format_final_answer)\n",
    "\n",
    "graph.set_entry_point(\"extract_keywords\")\n",
    "graph.add_edge(\"extract_keywords\", \"lookup_dictionary\")\n",
    "graph.add_edge(\"lookup_dictionary\", \"vector_search\")\n",
    "graph.add_edge(\"vector_search\", \"graph_rag\")\n",
    "graph.add_edge(\"graph_rag\", \"validate_answer\")\n",
    "graph.add_edge(\"validate_answer\", \"format_final_answer\")\n",
    "graph.add_edge(\"format_final_answer\", END)\n",
    "\n",
    "runnable = graph.compile()"
   ]
  },
  {
   "cell_type": "code",
   "execution_count": null,
   "metadata": {},
   "outputs": [],
   "source": [
    "# 실행 예시\n",
    "result = runnable.invoke({\"question\": \"regularization은 왜 필요한가요?\"})\n",
    "print(result[\"final_answer\"])"
   ]
  }
 ],
 "metadata": {
  "kernelspec": {
   "display_name": "Python 3",
   "language": "python",
   "name": "python3"
  },
  "language_info": {
   "name": "python"
  }
 },
 "nbformat": 4,
 "nbformat_minor": 2
}
