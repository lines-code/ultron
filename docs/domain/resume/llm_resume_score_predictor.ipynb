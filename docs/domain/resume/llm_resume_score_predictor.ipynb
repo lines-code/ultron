{
  "cells": [
    {
      "cell_type": "markdown",
      "metadata": {},
      "source": [
        "# 🧠 LLM + 회귀 기반 이력서 점수 예측\n",
        "이 노트북은 이력서를 입력받아 OpenAI의 GPT 모델로 항목별 점수를 추출하고, 이를 회귀 모델로 예측 점수를 출력합니다."
      ]
    },
    {
      "cell_type": "markdown",
      "metadata": {},
      "source": [
        "## 처리 절차 \n",
        "\n",
        "- 이력서 데이터 추출 수행  \n",
        "  - 이력서 Table 컬럼 구성하기 \n",
        "- 추출된 이력서 데이터를 기준으로 특성 및 구분화 작업 수행 \n",
        "  - 이력서의 각 항목에 대해서 그룹을 만들고, 우수 이력서에 대한 기준점을 바탕으로 내부적인 임의의 점수화 처리 작업 수행 \n",
        "  - 해당 작업은 추후에는 이력서의 각정보에 대한 점수 기반 점수가 필요하다. \n",
        "- 각 특성별로 프롬프트 기반 점수화 \n",
        "- 점수화된 각 점수의 평균값과 합계값을 이용해서 종합 점수를 생성 / 회귀분석을 위한 1차 방정식 구성\n",
        "  - 편향 및 가중치는 추후 단계적으로 검토 예정 \n",
        "- 회귀 모델 생성 \n",
        "- 입력값 ( 이력서 데이터 )에 대한 모델 검증 \n",
        "- 순환을 통해 결과 검증 ( 예측치 정의 )\n",
        "- 결과값 표현 ( Streamlit 를 이용한 검출 결과 POC 구성 )"
      ]
    },
    {
      "cell_type": "code",
      "execution_count": null,
      "metadata": {},
      "outputs": [],
      "source": [
        "%%capture\n",
        "\n",
        "%pip install openai scikit-learn pandas\n",
        "%pip install --upgrade python-dotenv"
      ]
    },
    {
      "cell_type": "code",
      "execution_count": null,
      "metadata": {},
      "outputs": [],
      "source": [
        "from dotenv import load_dotenv\n",
        "\n",
        "load_dotenv()"
      ]
    },
    {
      "cell_type": "code",
      "execution_count": null,
      "metadata": {},
      "outputs": [],
      "source": [
        "# ✅ 점수 추출용 프롬프트 및 함수 정의\n",
        "import json\n",
        "\n",
        "SYSTEM_PROMPT_SCORE = \"\"\"\n",
        "당신은 채용 담당자입니다. 이력서를 보고 아래 항목에 대해 0~5점으로 평가해주세요.\n",
        "\n",
        "항목:\n",
        "1. 기술 적합성\n",
        "2. 프로젝트 복잡도\n",
        "3. 경력 일관성\n",
        "4. 커뮤니케이션\n",
        "5. 성장 가능성\n",
        "\n",
        "응답 형식(JSON):\n",
        "{\n",
        "  \"기술 적합성\": 4,\n",
        "  \"프로젝트 복잡도\": 5,\n",
        "  \"경력 일관성\": 4,\n",
        "  \"커뮤니케이션\": 3,\n",
        "  \"성장 가능성\": 5\n",
        "}\n",
        "\"\"\"\n",
        "\n",
        "def extract_scores(resume_text: str, model=\"gpt-4\") -> dict:\n",
        "    response = openai.ChatCompletion.create(\n",
        "        model=model,\n",
        "        messages=[\n",
        "            {\"role\": \"system\", \"content\": SYSTEM_PROMPT_SCORE},\n",
        "            {\"role\": \"user\", \"content\": resume_text}\n",
        "        ],\n",
        "        temperature=0.3\n",
        "    )\n",
        "    try:\n",
        "        return json.loads(response[\"choices\"][0][\"message\"][\"content\"])\n",
        "    except json.JSONDecodeError:\n",
        "        return {}"
      ]
    },
    {
      "cell_type": "code",
      "execution_count": null,
      "metadata": {},
      "outputs": [],
      "source": [
        "import pandas as pd\n",
        "from sklearn.linear_model import LinearRegression\n",
        "\n",
        "df = pd.DataFrame([\n",
        "    {\"기술 적합성\": 4, \"프로젝트 복잡도\": 5, \"경력 일관성\": 4, \"커뮤니케이션\": 3, \"성장 가능성\": 5, \"적합도점수\": 90},\n",
        "    {\"기술 적합성\": 3, \"프로젝트 복잡도\": 3, \"경력 일관성\": 2, \"커뮤니케이션\": 2, \"성장 가능성\": 3, \"적합도점수\": 65},\n",
        "    {\"기술 적합성\": 5, \"프로젝트 복잡도\": 5, \"경력 일관성\": 5, \"커뮤니케이션\": 5, \"성장 가능성\": 5, \"적합도점수\": 99},\n",
        "])\n",
        "\n",
        "X = df.drop(\"적합도점수\", axis=1)\n",
        "y = df[\"적합도점수\"]\n",
        "\n",
        "reg_model = LinearRegression()\n",
        "reg_model.fit(X, y)"
      ]
    },
    {
      "cell_type": "code",
      "execution_count": null,
      "metadata": {},
      "outputs": [],
      "source": [
        "def predict_resume_score(resume_text: str) -> float:\n",
        "    scores = extract_scores(resume_text)\n",
        "    if not scores or len(scores) != 5:\n",
        "        return None\n",
        "    input_df = pd.DataFrame([scores])\n",
        "    return reg_model.predict(input_df)[0]"
      ]
    },
    {
      "cell_type": "code",
      "execution_count": null,
      "metadata": {},
      "outputs": [],
      "source": [
        "resume_text = \"\"\"\n",
        "- 백엔드 개발자 5년 (Python, Django, FastAPI, PostgreSQL)\n",
        "- 쇼핑몰 검색 시스템, 대용량 쿠폰 API 설계 및 운영\n",
        "- AWS EC2, S3, RDS 기반 CI/CD 구성\n",
        "- 사내 기술 세미나 발표 및 블로그 운영\n",
        "\"\"\"\n",
        "score = predict_resume_score(resume_text)\n",
        "print(f\"예상 적합도 점수: {score:.2f}\")"
      ]
    },
    {
      "cell_type": "markdown",
      "metadata": {},
      "source": [
        "### 평균/합게 기반으로 입력된 이력서를 모델로 정의하여 검증 "
      ]
    },
    {
      "cell_type": "code",
      "execution_count": null,
      "metadata": {},
      "outputs": [],
      "source": [
        "# 평균/합계 기반 종합 점수 계산 함수\n",
        "from statistics import mean\n",
        "\n",
        "def compute_final_score(scores: dict) -> dict:\n",
        "    values = list(scores.values())\n",
        "    avg_score = mean(values)\n",
        "    sum_score = sum(values)\n",
        "    combined_score = avg_score + sum_score  # 초기 예측식 (1차 방정식 기반)\n",
        "    return {\n",
        "        \"score_avg\": avg_score,\n",
        "        \"score_sum\": sum_score,\n",
        "        \"final_score\": combined_score\n",
        "    }"
      ]
    },
    {
      "cell_type": "code",
      "execution_count": null,
      "metadata": {},
      "outputs": [],
      "source": [
        "scores = extract_scores(resume_text)\n",
        "print(\"항목별 점수:\", scores)\n",
        "\n",
        "if scores:\n",
        "    result = compute_final_score(scores)\n",
        "    print(\"평균 점수:\", result[\"score_avg\"])\n",
        "    print(\"합계 점수:\", result[\"score_sum\"])\n",
        "    print(\"종합 점수 (예측값):\", result[\"final_score\"])\n",
        "else:\n",
        "    print(\"점수 추출 실패\")"
      ]
    }
  ],
  "metadata": {
    "kernelspec": {
      "display_name": "Python 3",
      "language": "python",
      "name": "python3"
    },
    "language_info": {
      "name": "python",
      "version": "3.10"
    }
  },
  "nbformat": 4,
  "nbformat_minor": 2
}
