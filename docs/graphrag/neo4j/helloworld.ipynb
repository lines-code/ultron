{
 "cells": [
  {
   "cell_type": "markdown",
   "id": "f114c627",
   "metadata": {},
   "source": [
    "# Graph Rag \n",
    "\n",
    "최근 LLM을 잘 활용하기 위해서는 모델이 뱉어내는 텍스트를 그대로 사용하는 것이 아닌, 데이터 베이스를 직접 구축하고 그 데이터를 기반으로 LLM이 답변하도록 구현하는 RAG(Retrieval-Augmented Generation) 기법이 많이 사용되고 있습니다. 이제는 마음만 먹으면 LLM을 누구나 활용가능한 만큼, 독자적인 데이터로 사용자의 니즈에 맞춘 서비스를 준비하는 것이 더욱 관건이라는 의미인데요. 또한, 어떤 데이터 베이스를 구축하냐에 따라 그 성능이 달라지기 마련입니다."
   ]
  },
  {
   "cell_type": "markdown",
   "id": "eb91639f",
   "metadata": {},
   "source": [
    "## GraphRag를 위한 Graph DB - Neo4J\n",
    "\n",
    "- Neo4J는 그래프 데이터베이스 DBMS \n",
    "- Cypher는 그래프 언어를 다룰 수 있다. \n",
    "  - Node\n",
    "  - Relationship"
   ]
  },
  {
   "cell_type": "markdown",
   "id": "0cbece53",
   "metadata": {},
   "source": [
    "### Cypher \n",
    "\n",
    "- Cypher란, Graph 데이터베이스에 접근하기 위해 사용되는 그래프 쿼리 언어\n",
    "\n",
    "```cypher\n",
    "MATCH (n1)-[r]->(n2) RETURN r, n1, n2 LIMIT 25\n",
    "```\n",
    "\n",
    "어떤 유저가 어떤 영화에 대해서 평가를 내린 이 관계에 대해서 조회를 하고 싶다.\n",
    "\n",
    "```cypher\n",
    "MATCH (m:Movie)<-[r:RATED]-[u:User]\n",
    "RETURN m,r,u LIMIT 10 \n",
    "```\n",
    "\n",
    "```cypher\n",
    "MATCH (m:Movie)<-[r:ACTED_IN]-(a:Actor{name:'Tom Hanks'})\n",
    "RETURN m,r,u LIMIT 10 \n",
    "```\n",
    "\n",
    "```cypher\n",
    "MATCH (m:Movie)<-[r:ACTED_IN]-(a:Actor{name:'Tom Hanks'})\n",
    "RETURN m.title, m.plot LIMIT 10 \n",
    "```\n",
    "\n",
    "```cypher\n",
    "MATCH (n:Concept)-[r]-(m:Chapter) RETURN n,r,m\n",
    "```"
   ]
  },
  {
   "cell_type": "code",
   "execution_count": 1,
   "id": "e73edb8f",
   "metadata": {
    "ExecuteTime": {
     "end_time": "2025-06-05T08:41:25.245879Z",
     "start_time": "2025-06-05T08:41:08.523002Z"
    }
   },
   "outputs": [],
   "source": [
    "%%capture\n",
    "\n",
    "# update or install the necessary libraries\n",
    "\n",
    "%pip install neo4j\n",
    "%pip install --upgrade \\\n",
    "    langchain==0.3.24 \\\n",
    "    langchain-openai==0.3.14 \\\n",
    "    langchain_community"
   ]
  },
  {
   "cell_type": "markdown",
   "id": "4e4ac10e",
   "metadata": {},
   "source": [
    "## 기본 연결 예제\n",
    "\n",
    "#### Graph DB - Neo4j 설치 \n",
    "\n",
    "- [Neo4J Download Link](https://neo4j.com/download/)\n",
    "\n",
    "#### 초기 Neo4J 접근시 \n",
    "\n",
    "- 비밀번호 세팅\n",
    "\n",
    "```cypher\n",
    "alter user neo4j set password 'dreamcome'\n",
    "```"
   ]
  },
  {
   "cell_type": "markdown",
   "id": "2da05c77",
   "metadata": {},
   "source": [
    "#### 기본 코드를 실제로 연결해보면 "
   ]
  },
  {
   "cell_type": "code",
   "execution_count": 35,
   "id": "acbfea5c",
   "metadata": {},
   "outputs": [
    {
     "name": "stdout",
     "output_type": "stream",
     "text": [
      "Neo4j 연결 성공!\n"
     ]
    }
   ],
   "source": [
    "from neo4j import GraphDatabase\n",
    "\n",
    "# 연결 정보 설정\n",
    "URI = \"bolt://localhost:7687\"  # 일반적으로 bolt 프로토콜 사용\n",
    "USERNAME = \"neo4j\"\n",
    "PASSWORD = \"dreamcome\"  # 실제 비밀번호로 대체\n",
    "\n",
    "class Neo4jConnector:\n",
    "    def __init__(self, uri, user, password):\n",
    "        self.driver = GraphDatabase.driver(uri, auth=(user, password))\n",
    "\n",
    "    def close(self):\n",
    "        self.driver.close()\n",
    "\n",
    "    def test_connection(self):\n",
    "        with self.driver.session() as session:\n",
    "            result = session.run(\"RETURN 'Neo4j 연결 성공!' AS message\")\n",
    "            for record in result:\n",
    "                print(record[\"message\"])\n",
    "\n",
    "if __name__ == \"__main__\":\n",
    "    connector = Neo4jConnector(URI, USERNAME, PASSWORD)\n",
    "    try:\n",
    "        connector.test_connection()\n",
    "    finally:\n",
    "        connector.close()"
   ]
  },
  {
   "cell_type": "markdown",
   "id": "18fa9703",
   "metadata": {},
   "source": [
    "### neo4j_genai \n",
    "\n",
    "GraphDB 구축을 통한 생성형 AI 활용을 도와주는 파이썬 패키지 \n",
    "\n",
    "- 벡터검색, 지식 그래프 구축, RAG "
   ]
  },
  {
   "cell_type": "code",
   "execution_count": 2,
   "id": "7971566b",
   "metadata": {
    "ExecuteTime": {
     "end_time": "2025-06-05T08:43:49.191746Z",
     "start_time": "2025-06-05T08:43:44.886939Z"
    }
   },
   "outputs": [],
   "source": [
    "%%capture\n",
    "\n",
    "# update or install the necessary libraries\n",
    "\n",
    "%pip install neo4j_genai neo4j openai\n",
    "%pip install --upgrade python-dotenv\n",
    "%pip install --upgrade \\\n",
    "    langchain==0.3.24 \\\n",
    "    langchain-openai==0.3.14 \\\n",
    "    langchain_community"
   ]
  },
  {
   "cell_type": "code",
   "execution_count": 3,
   "id": "52a6955a",
   "metadata": {
    "ExecuteTime": {
     "end_time": "2025-06-05T08:45:02.062043Z",
     "start_time": "2025-06-05T08:45:02.052758Z"
    }
   },
   "outputs": [
    {
     "data": {
      "text/plain": [
       "True"
      ]
     },
     "execution_count": 3,
     "metadata": {},
     "output_type": "execute_result"
    }
   ],
   "source": [
    "from dotenv import load_dotenv\n",
    "\n",
    "load_dotenv()"
   ]
  },
  {
   "cell_type": "code",
   "execution_count": 1,
   "id": "fb9bfaaf",
   "metadata": {
    "ExecuteTime": {
     "end_time": "2025-06-05T08:45:04.836768Z",
     "start_time": "2025-06-05T08:45:03.886613Z"
    }
   },
   "outputs": [],
   "source": [
    "from neo4j import GraphDatabase, basic_auth\n",
    "import openai\n",
    "\n",
    "driver = GraphDatabase.driver(\n",
    "  \"bolt://localhost:7687\",\n",
    "  auth=basic_auth(\"neo4j\", \"dreamcome\")\n",
    ")"
   ]
  },
  {
   "cell_type": "markdown",
   "id": "3092f8fb",
   "metadata": {},
   "source": [
    "```\n",
    "MATCH(m:Movie {title:$movie})<-[:RATED]-(u:USER)-[:RATED]->(rec:Movie)\n",
    "RETURN distinct rec.title AS recommendation LIMIT 20 \n",
    "```\n",
    "\n",
    "- (m:Movie {title:$movie}): title이 $movie 인 노드\n",
    "- (rec:Movie) : 이노드는 ref이라는 변수로 지정\n",
    "- RETURN distinct rec.title : rec 변수에 있는 노드의 title을 RETURN\n",
    "\n",
    "```\n",
    "MATCH(m:Movie {title:$movie})<-[:ACTED_IN]-(u:Person)-[:ACTED_IN]->(rec:Movie)\n",
    "RETURN distinct rec.title AS recommendation LIMIT 20 \n",
    "```\n"
   ]
  },
  {
   "cell_type": "code",
   "execution_count": 2,
   "id": "bb63386b",
   "metadata": {
    "ExecuteTime": {
     "end_time": "2025-06-05T08:45:12.214021Z",
     "start_time": "2025-06-05T08:45:12.060173Z"
    }
   },
   "outputs": [
    {
     "name": "stdout",
     "output_type": "stream",
     "text": [
      "The Matrix Reloaded\n",
      "The Matrix Revolutions\n",
      "The Devil's Advocate\n",
      "The Replacements\n",
      "Johnny Mnemonic\n",
      "Something's Gotta Give\n",
      "Cloud Atlas\n",
      "V for Vendetta\n"
     ]
    },
    {
     "name": "stderr",
     "output_type": "stream",
     "text": [
      "/var/folders/_r/_zcn1yz91b9glhr_b0qj94_40000gn/T/ipykernel_77007/4122074726.py:7: DeprecationWarning: read_transaction has been renamed to execute_read\n",
      "  results = session.read_transaction(\n"
     ]
    }
   ],
   "source": [
    "cypher_query = ''' \n",
    "MATCH(m:Movie {title:$movie})<-[:ACTED_IN]-(u:Person)-[:ACTED_IN]->(rec:Movie)\n",
    "RETURN distinct rec.title AS recommendation LIMIT 20 \n",
    "'''\n",
    "\n",
    "with driver.session(database=\"neo4j\") as session:\n",
    "  results = session.read_transaction(\n",
    "    lambda tx: tx.run(cypher_query, movie=\"The Matrix\").data()\n",
    "  )\n",
    "\n",
    "for record in results: \n",
    "  print(record['recommendation'])"
   ]
  },
  {
   "cell_type": "code",
   "execution_count": 33,
   "id": "ffd2efe9",
   "metadata": {},
   "outputs": [],
   "source": [
    "def generate_embedding(text):\n",
    "    embedding = openai.embeddings.create(input = [text], model='text-embedding-ada-002').data[0].embedding\n",
    "    return embedding"
   ]
  },
  {
   "cell_type": "code",
   "execution_count": 34,
   "id": "2d8c92d0",
   "metadata": {},
   "outputs": [
    {
     "name": "stderr",
     "output_type": "stream",
     "text": [
      "/var/folders/_r/_zcn1yz91b9glhr_b0qj94_40000gn/T/ipykernel_46671/444901017.py:20: DeprecationWarning: write_transaction has been renamed to execute_write\n",
      "  session.write_transaction(add_embedding_to_movie)\n"
     ]
    },
    {
     "name": "stdout",
     "output_type": "stream",
     "text": [
      "1\n",
      "Welcome to the Real World\n",
      "=================\n"
     ]
    },
    {
     "name": "stderr",
     "output_type": "stream",
     "text": [
      "Received notification from DBMS server: {severity: WARNING} {code: Neo.ClientNotification.Statement.FeatureDeprecationWarning} {category: DEPRECATION} {title: This feature is deprecated and will be removed in future versions.} {description: The query used a deprecated function: `id`.} {position: line: 1, column: 92, offset: 91} for query: 'MATCH (m:Movie) WHERE m.tagline IS NOT NULL RETURN m.title AS title, m.tagline AS tagline, ID(m) AS id LIMIT 100'\n"
     ]
    },
    {
     "name": "stdout",
     "output_type": "stream",
     "text": [
      "Updated movie 'The Matrix' with embedding.\n",
      "2\n",
      "Free your mind\n",
      "=================\n"
     ]
    },
    {
     "name": "stderr",
     "output_type": "stream",
     "text": [
      "Received notification from DBMS server: {severity: WARNING} {code: Neo.ClientNotification.Statement.FeatureDeprecationWarning} {category: DEPRECATION} {title: This feature is deprecated and will be removed in future versions.} {description: The query used a deprecated function: `id`.} {position: line: 1, column: 23, offset: 22} for query: 'MATCH (m:Movie) WHERE ID(m) = $id SET m.taglineEmbedding = $embedding'\n"
     ]
    },
    {
     "name": "stdout",
     "output_type": "stream",
     "text": [
      "Updated movie 'The Matrix Reloaded' with embedding.\n",
      "3\n",
      "Everything that has a beginning has an end\n",
      "=================\n"
     ]
    },
    {
     "name": "stderr",
     "output_type": "stream",
     "text": [
      "Received notification from DBMS server: {severity: WARNING} {code: Neo.ClientNotification.Statement.FeatureDeprecationWarning} {category: DEPRECATION} {title: This feature is deprecated and will be removed in future versions.} {description: The query used a deprecated function: `id`.} {position: line: 1, column: 23, offset: 22} for query: 'MATCH (m:Movie) WHERE ID(m) = $id SET m.taglineEmbedding = $embedding'\n"
     ]
    },
    {
     "name": "stdout",
     "output_type": "stream",
     "text": [
      "Updated movie 'The Matrix Revolutions' with embedding.\n",
      "4\n",
      "Evil has its winning ways\n",
      "=================\n"
     ]
    },
    {
     "name": "stderr",
     "output_type": "stream",
     "text": [
      "Received notification from DBMS server: {severity: WARNING} {code: Neo.ClientNotification.Statement.FeatureDeprecationWarning} {category: DEPRECATION} {title: This feature is deprecated and will be removed in future versions.} {description: The query used a deprecated function: `id`.} {position: line: 1, column: 23, offset: 22} for query: 'MATCH (m:Movie) WHERE ID(m) = $id SET m.taglineEmbedding = $embedding'\n"
     ]
    },
    {
     "name": "stdout",
     "output_type": "stream",
     "text": [
      "Updated movie 'The Devil's Advocate' with embedding.\n",
      "5\n",
      "In the heart of the nation's capital, in a courthouse of the U.S. government, one man will stop at nothing to keep his honor, and one will stop at nothing to find the truth.\n",
      "=================\n"
     ]
    },
    {
     "name": "stderr",
     "output_type": "stream",
     "text": [
      "Received notification from DBMS server: {severity: WARNING} {code: Neo.ClientNotification.Statement.FeatureDeprecationWarning} {category: DEPRECATION} {title: This feature is deprecated and will be removed in future versions.} {description: The query used a deprecated function: `id`.} {position: line: 1, column: 23, offset: 22} for query: 'MATCH (m:Movie) WHERE ID(m) = $id SET m.taglineEmbedding = $embedding'\n"
     ]
    },
    {
     "name": "stdout",
     "output_type": "stream",
     "text": [
      "Updated movie 'A Few Good Men' with embedding.\n",
      "6\n",
      "I feel the need, the need for speed.\n",
      "=================\n"
     ]
    },
    {
     "name": "stderr",
     "output_type": "stream",
     "text": [
      "Received notification from DBMS server: {severity: WARNING} {code: Neo.ClientNotification.Statement.FeatureDeprecationWarning} {category: DEPRECATION} {title: This feature is deprecated and will be removed in future versions.} {description: The query used a deprecated function: `id`.} {position: line: 1, column: 23, offset: 22} for query: 'MATCH (m:Movie) WHERE ID(m) = $id SET m.taglineEmbedding = $embedding'\n"
     ]
    },
    {
     "name": "stdout",
     "output_type": "stream",
     "text": [
      "Updated movie 'Top Gun' with embedding.\n",
      "7\n",
      "The rest of his life begins now.\n",
      "=================\n"
     ]
    },
    {
     "name": "stderr",
     "output_type": "stream",
     "text": [
      "Received notification from DBMS server: {severity: WARNING} {code: Neo.ClientNotification.Statement.FeatureDeprecationWarning} {category: DEPRECATION} {title: This feature is deprecated and will be removed in future versions.} {description: The query used a deprecated function: `id`.} {position: line: 1, column: 23, offset: 22} for query: 'MATCH (m:Movie) WHERE ID(m) = $id SET m.taglineEmbedding = $embedding'\n"
     ]
    },
    {
     "name": "stdout",
     "output_type": "stream",
     "text": [
      "Updated movie 'Jerry Maguire' with embedding.\n",
      "8\n",
      "For some, it's the last real taste of innocence, and the first real taste of life. But for everyone, it's the time that memories are made of.\n",
      "=================\n"
     ]
    },
    {
     "name": "stderr",
     "output_type": "stream",
     "text": [
      "Received notification from DBMS server: {severity: WARNING} {code: Neo.ClientNotification.Statement.FeatureDeprecationWarning} {category: DEPRECATION} {title: This feature is deprecated and will be removed in future versions.} {description: The query used a deprecated function: `id`.} {position: line: 1, column: 23, offset: 22} for query: 'MATCH (m:Movie) WHERE ID(m) = $id SET m.taglineEmbedding = $embedding'\n"
     ]
    },
    {
     "name": "stdout",
     "output_type": "stream",
     "text": [
      "Updated movie 'Stand By Me' with embedding.\n",
      "9\n",
      "A comedy from the heart that goes for the throat.\n",
      "=================\n"
     ]
    },
    {
     "name": "stderr",
     "output_type": "stream",
     "text": [
      "Received notification from DBMS server: {severity: WARNING} {code: Neo.ClientNotification.Statement.FeatureDeprecationWarning} {category: DEPRECATION} {title: This feature is deprecated and will be removed in future versions.} {description: The query used a deprecated function: `id`.} {position: line: 1, column: 23, offset: 22} for query: 'MATCH (m:Movie) WHERE ID(m) = $id SET m.taglineEmbedding = $embedding'\n"
     ]
    },
    {
     "name": "stdout",
     "output_type": "stream",
     "text": [
      "Updated movie 'As Good as It Gets' with embedding.\n",
      "10\n",
      "After life there is more. The end is just the beginning.\n",
      "=================\n"
     ]
    },
    {
     "name": "stderr",
     "output_type": "stream",
     "text": [
      "Received notification from DBMS server: {severity: WARNING} {code: Neo.ClientNotification.Statement.FeatureDeprecationWarning} {category: DEPRECATION} {title: This feature is deprecated and will be removed in future versions.} {description: The query used a deprecated function: `id`.} {position: line: 1, column: 23, offset: 22} for query: 'MATCH (m:Movie) WHERE ID(m) = $id SET m.taglineEmbedding = $embedding'\n"
     ]
    },
    {
     "name": "stdout",
     "output_type": "stream",
     "text": [
      "Updated movie 'What Dreams May Come' with embedding.\n",
      "11\n",
      "First loves last. Forever.\n",
      "=================\n"
     ]
    },
    {
     "name": "stderr",
     "output_type": "stream",
     "text": [
      "Received notification from DBMS server: {severity: WARNING} {code: Neo.ClientNotification.Statement.FeatureDeprecationWarning} {category: DEPRECATION} {title: This feature is deprecated and will be removed in future versions.} {description: The query used a deprecated function: `id`.} {position: line: 1, column: 23, offset: 22} for query: 'MATCH (m:Movie) WHERE ID(m) = $id SET m.taglineEmbedding = $embedding'\n"
     ]
    },
    {
     "name": "stdout",
     "output_type": "stream",
     "text": [
      "Updated movie 'Snow Falling on Cedars' with embedding.\n",
      "12\n",
      "At odds in life... in love on-line.\n",
      "=================\n"
     ]
    },
    {
     "name": "stderr",
     "output_type": "stream",
     "text": [
      "Received notification from DBMS server: {severity: WARNING} {code: Neo.ClientNotification.Statement.FeatureDeprecationWarning} {category: DEPRECATION} {title: This feature is deprecated and will be removed in future versions.} {description: The query used a deprecated function: `id`.} {position: line: 1, column: 23, offset: 22} for query: 'MATCH (m:Movie) WHERE ID(m) = $id SET m.taglineEmbedding = $embedding'\n"
     ]
    },
    {
     "name": "stdout",
     "output_type": "stream",
     "text": [
      "Updated movie 'You've Got Mail' with embedding.\n",
      "13\n",
      "What if someone you never met, someone you never saw, someone you never knew was the only someone for you?\n",
      "=================\n"
     ]
    },
    {
     "name": "stderr",
     "output_type": "stream",
     "text": [
      "Received notification from DBMS server: {severity: WARNING} {code: Neo.ClientNotification.Statement.FeatureDeprecationWarning} {category: DEPRECATION} {title: This feature is deprecated and will be removed in future versions.} {description: The query used a deprecated function: `id`.} {position: line: 1, column: 23, offset: 22} for query: 'MATCH (m:Movie) WHERE ID(m) = $id SET m.taglineEmbedding = $embedding'\n"
     ]
    },
    {
     "name": "stdout",
     "output_type": "stream",
     "text": [
      "Updated movie 'Sleepless in Seattle' with embedding.\n",
      "14\n",
      "A story of love, lava and burning desire.\n",
      "=================\n"
     ]
    },
    {
     "name": "stderr",
     "output_type": "stream",
     "text": [
      "Received notification from DBMS server: {severity: WARNING} {code: Neo.ClientNotification.Statement.FeatureDeprecationWarning} {category: DEPRECATION} {title: This feature is deprecated and will be removed in future versions.} {description: The query used a deprecated function: `id`.} {position: line: 1, column: 23, offset: 22} for query: 'MATCH (m:Movie) WHERE ID(m) = $id SET m.taglineEmbedding = $embedding'\n"
     ]
    },
    {
     "name": "stdout",
     "output_type": "stream",
     "text": [
      "Updated movie 'Joe Versus the Volcano' with embedding.\n",
      "15\n",
      "At odds in life... in love on-line.\n",
      "=================\n"
     ]
    },
    {
     "name": "stderr",
     "output_type": "stream",
     "text": [
      "Received notification from DBMS server: {severity: WARNING} {code: Neo.ClientNotification.Statement.FeatureDeprecationWarning} {category: DEPRECATION} {title: This feature is deprecated and will be removed in future versions.} {description: The query used a deprecated function: `id`.} {position: line: 1, column: 23, offset: 22} for query: 'MATCH (m:Movie) WHERE ID(m) = $id SET m.taglineEmbedding = $embedding'\n"
     ]
    },
    {
     "name": "stdout",
     "output_type": "stream",
     "text": [
      "Updated movie 'When Harry Met Sally' with embedding.\n",
      "16\n",
      "In every life there comes a time when that thing you dream becomes that thing you do\n",
      "=================\n"
     ]
    },
    {
     "name": "stderr",
     "output_type": "stream",
     "text": [
      "Received notification from DBMS server: {severity: WARNING} {code: Neo.ClientNotification.Statement.FeatureDeprecationWarning} {category: DEPRECATION} {title: This feature is deprecated and will be removed in future versions.} {description: The query used a deprecated function: `id`.} {position: line: 1, column: 23, offset: 22} for query: 'MATCH (m:Movie) WHERE ID(m) = $id SET m.taglineEmbedding = $embedding'\n"
     ]
    },
    {
     "name": "stdout",
     "output_type": "stream",
     "text": [
      "Updated movie 'That Thing You Do' with embedding.\n",
      "17\n",
      "Pain heals, Chicks dig scars... Glory lasts forever\n",
      "=================\n"
     ]
    },
    {
     "name": "stderr",
     "output_type": "stream",
     "text": [
      "Received notification from DBMS server: {severity: WARNING} {code: Neo.ClientNotification.Statement.FeatureDeprecationWarning} {category: DEPRECATION} {title: This feature is deprecated and will be removed in future versions.} {description: The query used a deprecated function: `id`.} {position: line: 1, column: 23, offset: 22} for query: 'MATCH (m:Movie) WHERE ID(m) = $id SET m.taglineEmbedding = $embedding'\n"
     ]
    },
    {
     "name": "stdout",
     "output_type": "stream",
     "text": [
      "Updated movie 'The Replacements' with embedding.\n",
      "18\n",
      "Based on the extraordinary true story of one man's fight for freedom\n",
      "=================\n"
     ]
    },
    {
     "name": "stderr",
     "output_type": "stream",
     "text": [
      "Received notification from DBMS server: {severity: WARNING} {code: Neo.ClientNotification.Statement.FeatureDeprecationWarning} {category: DEPRECATION} {title: This feature is deprecated and will be removed in future versions.} {description: The query used a deprecated function: `id`.} {position: line: 1, column: 23, offset: 22} for query: 'MATCH (m:Movie) WHERE ID(m) = $id SET m.taglineEmbedding = $embedding'\n"
     ]
    },
    {
     "name": "stdout",
     "output_type": "stream",
     "text": [
      "Updated movie 'RescueDawn' with embedding.\n",
      "19\n",
      "Come as you are\n",
      "=================\n"
     ]
    },
    {
     "name": "stderr",
     "output_type": "stream",
     "text": [
      "Received notification from DBMS server: {severity: WARNING} {code: Neo.ClientNotification.Statement.FeatureDeprecationWarning} {category: DEPRECATION} {title: This feature is deprecated and will be removed in future versions.} {description: The query used a deprecated function: `id`.} {position: line: 1, column: 23, offset: 22} for query: 'MATCH (m:Movie) WHERE ID(m) = $id SET m.taglineEmbedding = $embedding'\n"
     ]
    },
    {
     "name": "stdout",
     "output_type": "stream",
     "text": [
      "Updated movie 'The Birdcage' with embedding.\n",
      "20\n",
      "It's a hell of a thing, killing a man\n",
      "=================\n"
     ]
    },
    {
     "name": "stderr",
     "output_type": "stream",
     "text": [
      "Received notification from DBMS server: {severity: WARNING} {code: Neo.ClientNotification.Statement.FeatureDeprecationWarning} {category: DEPRECATION} {title: This feature is deprecated and will be removed in future versions.} {description: The query used a deprecated function: `id`.} {position: line: 1, column: 23, offset: 22} for query: 'MATCH (m:Movie) WHERE ID(m) = $id SET m.taglineEmbedding = $embedding'\n"
     ]
    },
    {
     "name": "stdout",
     "output_type": "stream",
     "text": [
      "Updated movie 'Unforgiven' with embedding.\n",
      "21\n",
      "The hottest data on earth. In the coolest head in town\n",
      "=================\n"
     ]
    },
    {
     "name": "stderr",
     "output_type": "stream",
     "text": [
      "Received notification from DBMS server: {severity: WARNING} {code: Neo.ClientNotification.Statement.FeatureDeprecationWarning} {category: DEPRECATION} {title: This feature is deprecated and will be removed in future versions.} {description: The query used a deprecated function: `id`.} {position: line: 1, column: 23, offset: 22} for query: 'MATCH (m:Movie) WHERE ID(m) = $id SET m.taglineEmbedding = $embedding'\n"
     ]
    },
    {
     "name": "stdout",
     "output_type": "stream",
     "text": [
      "Updated movie 'Johnny Mnemonic' with embedding.\n",
      "22\n",
      "Everything is connected\n",
      "=================\n"
     ]
    },
    {
     "name": "stderr",
     "output_type": "stream",
     "text": [
      "Received notification from DBMS server: {severity: WARNING} {code: Neo.ClientNotification.Statement.FeatureDeprecationWarning} {category: DEPRECATION} {title: This feature is deprecated and will be removed in future versions.} {description: The query used a deprecated function: `id`.} {position: line: 1, column: 23, offset: 22} for query: 'MATCH (m:Movie) WHERE ID(m) = $id SET m.taglineEmbedding = $embedding'\n"
     ]
    },
    {
     "name": "stdout",
     "output_type": "stream",
     "text": [
      "Updated movie 'Cloud Atlas' with embedding.\n",
      "23\n",
      "Break The Codes\n",
      "=================\n"
     ]
    },
    {
     "name": "stderr",
     "output_type": "stream",
     "text": [
      "Received notification from DBMS server: {severity: WARNING} {code: Neo.ClientNotification.Statement.FeatureDeprecationWarning} {category: DEPRECATION} {title: This feature is deprecated and will be removed in future versions.} {description: The query used a deprecated function: `id`.} {position: line: 1, column: 23, offset: 22} for query: 'MATCH (m:Movie) WHERE ID(m) = $id SET m.taglineEmbedding = $embedding'\n"
     ]
    },
    {
     "name": "stdout",
     "output_type": "stream",
     "text": [
      "Updated movie 'The Da Vinci Code' with embedding.\n",
      "24\n",
      "Freedom! Forever!\n",
      "=================\n"
     ]
    },
    {
     "name": "stderr",
     "output_type": "stream",
     "text": [
      "Received notification from DBMS server: {severity: WARNING} {code: Neo.ClientNotification.Statement.FeatureDeprecationWarning} {category: DEPRECATION} {title: This feature is deprecated and will be removed in future versions.} {description: The query used a deprecated function: `id`.} {position: line: 1, column: 23, offset: 22} for query: 'MATCH (m:Movie) WHERE ID(m) = $id SET m.taglineEmbedding = $embedding'\n"
     ]
    },
    {
     "name": "stdout",
     "output_type": "stream",
     "text": [
      "Updated movie 'V for Vendetta' with embedding.\n",
      "25\n",
      "Speed has no limits\n",
      "=================\n"
     ]
    },
    {
     "name": "stderr",
     "output_type": "stream",
     "text": [
      "Received notification from DBMS server: {severity: WARNING} {code: Neo.ClientNotification.Statement.FeatureDeprecationWarning} {category: DEPRECATION} {title: This feature is deprecated and will be removed in future versions.} {description: The query used a deprecated function: `id`.} {position: line: 1, column: 23, offset: 22} for query: 'MATCH (m:Movie) WHERE ID(m) = $id SET m.taglineEmbedding = $embedding'\n"
     ]
    },
    {
     "name": "stdout",
     "output_type": "stream",
     "text": [
      "Updated movie 'Speed Racer' with embedding.\n",
      "26\n",
      "Prepare to enter a secret world of assassins\n",
      "=================\n"
     ]
    },
    {
     "name": "stderr",
     "output_type": "stream",
     "text": [
      "Received notification from DBMS server: {severity: WARNING} {code: Neo.ClientNotification.Statement.FeatureDeprecationWarning} {category: DEPRECATION} {title: This feature is deprecated and will be removed in future versions.} {description: The query used a deprecated function: `id`.} {position: line: 1, column: 23, offset: 22} for query: 'MATCH (m:Movie) WHERE ID(m) = $id SET m.taglineEmbedding = $embedding'\n"
     ]
    },
    {
     "name": "stdout",
     "output_type": "stream",
     "text": [
      "Updated movie 'Ninja Assassin' with embedding.\n",
      "27\n",
      "Walk a mile you'll never forget.\n",
      "=================\n"
     ]
    },
    {
     "name": "stderr",
     "output_type": "stream",
     "text": [
      "Received notification from DBMS server: {severity: WARNING} {code: Neo.ClientNotification.Statement.FeatureDeprecationWarning} {category: DEPRECATION} {title: This feature is deprecated and will be removed in future versions.} {description: The query used a deprecated function: `id`.} {position: line: 1, column: 23, offset: 22} for query: 'MATCH (m:Movie) WHERE ID(m) = $id SET m.taglineEmbedding = $embedding'\n"
     ]
    },
    {
     "name": "stdout",
     "output_type": "stream",
     "text": [
      "Updated movie 'The Green Mile' with embedding.\n",
      "28\n",
      "400 million people were waiting for the truth.\n",
      "=================\n"
     ]
    },
    {
     "name": "stderr",
     "output_type": "stream",
     "text": [
      "Received notification from DBMS server: {severity: WARNING} {code: Neo.ClientNotification.Statement.FeatureDeprecationWarning} {category: DEPRECATION} {title: This feature is deprecated and will be removed in future versions.} {description: The query used a deprecated function: `id`.} {position: line: 1, column: 23, offset: 22} for query: 'MATCH (m:Movie) WHERE ID(m) = $id SET m.taglineEmbedding = $embedding'\n"
     ]
    },
    {
     "name": "stdout",
     "output_type": "stream",
     "text": [
      "Updated movie 'Frost/Nixon' with embedding.\n",
      "29\n",
      "He didn't want law. He wanted justice.\n",
      "=================\n"
     ]
    },
    {
     "name": "stderr",
     "output_type": "stream",
     "text": [
      "Received notification from DBMS server: {severity: WARNING} {code: Neo.ClientNotification.Statement.FeatureDeprecationWarning} {category: DEPRECATION} {title: This feature is deprecated and will be removed in future versions.} {description: The query used a deprecated function: `id`.} {position: line: 1, column: 23, offset: 22} for query: 'MATCH (m:Movie) WHERE ID(m) = $id SET m.taglineEmbedding = $embedding'\n"
     ]
    },
    {
     "name": "stdout",
     "output_type": "stream",
     "text": [
      "Updated movie 'Hoffa' with embedding.\n",
      "30\n",
      "Houston, we have a problem.\n",
      "=================\n"
     ]
    },
    {
     "name": "stderr",
     "output_type": "stream",
     "text": [
      "Received notification from DBMS server: {severity: WARNING} {code: Neo.ClientNotification.Statement.FeatureDeprecationWarning} {category: DEPRECATION} {title: This feature is deprecated and will be removed in future versions.} {description: The query used a deprecated function: `id`.} {position: line: 1, column: 23, offset: 22} for query: 'MATCH (m:Movie) WHERE ID(m) = $id SET m.taglineEmbedding = $embedding'\n"
     ]
    },
    {
     "name": "stdout",
     "output_type": "stream",
     "text": [
      "Updated movie 'Apollo 13' with embedding.\n",
      "31\n",
      "Don't Breathe. Don't Look Back.\n",
      "=================\n"
     ]
    },
    {
     "name": "stderr",
     "output_type": "stream",
     "text": [
      "Received notification from DBMS server: {severity: WARNING} {code: Neo.ClientNotification.Statement.FeatureDeprecationWarning} {category: DEPRECATION} {title: This feature is deprecated and will be removed in future versions.} {description: The query used a deprecated function: `id`.} {position: line: 1, column: 23, offset: 22} for query: 'MATCH (m:Movie) WHERE ID(m) = $id SET m.taglineEmbedding = $embedding'\n"
     ]
    },
    {
     "name": "stdout",
     "output_type": "stream",
     "text": [
      "Updated movie 'Twister' with embedding.\n",
      "32\n",
      "At the edge of the world, his journey begins.\n",
      "=================\n"
     ]
    },
    {
     "name": "stderr",
     "output_type": "stream",
     "text": [
      "Received notification from DBMS server: {severity: WARNING} {code: Neo.ClientNotification.Statement.FeatureDeprecationWarning} {category: DEPRECATION} {title: This feature is deprecated and will be removed in future versions.} {description: The query used a deprecated function: `id`.} {position: line: 1, column: 23, offset: 22} for query: 'MATCH (m:Movie) WHERE ID(m) = $id SET m.taglineEmbedding = $embedding'\n"
     ]
    },
    {
     "name": "stdout",
     "output_type": "stream",
     "text": [
      "Updated movie 'Cast Away' with embedding.\n",
      "33\n",
      "If he's crazy, what does that make you?\n",
      "=================\n"
     ]
    },
    {
     "name": "stderr",
     "output_type": "stream",
     "text": [
      "Received notification from DBMS server: {severity: WARNING} {code: Neo.ClientNotification.Statement.FeatureDeprecationWarning} {category: DEPRECATION} {title: This feature is deprecated and will be removed in future versions.} {description: The query used a deprecated function: `id`.} {position: line: 1, column: 23, offset: 22} for query: 'MATCH (m:Movie) WHERE ID(m) = $id SET m.taglineEmbedding = $embedding'\n"
     ]
    },
    {
     "name": "stdout",
     "output_type": "stream",
     "text": [
      "Updated movie 'One Flew Over the Cuckoo's Nest' with embedding.\n",
      "34\n",
      "One robot's 200 year journey to become an ordinary man.\n",
      "=================\n"
     ]
    },
    {
     "name": "stderr",
     "output_type": "stream",
     "text": [
      "Received notification from DBMS server: {severity: WARNING} {code: Neo.ClientNotification.Statement.FeatureDeprecationWarning} {category: DEPRECATION} {title: This feature is deprecated and will be removed in future versions.} {description: The query used a deprecated function: `id`.} {position: line: 1, column: 23, offset: 22} for query: 'MATCH (m:Movie) WHERE ID(m) = $id SET m.taglineEmbedding = $embedding'\n"
     ]
    },
    {
     "name": "stdout",
     "output_type": "stream",
     "text": [
      "Updated movie 'Bicentennial Man' with embedding.\n",
      "35\n",
      "A stiff drink. A little mascara. A lot of nerve. Who said they couldn't bring down the Soviet empire.\n",
      "=================\n"
     ]
    },
    {
     "name": "stderr",
     "output_type": "stream",
     "text": [
      "Received notification from DBMS server: {severity: WARNING} {code: Neo.ClientNotification.Statement.FeatureDeprecationWarning} {category: DEPRECATION} {title: This feature is deprecated and will be removed in future versions.} {description: The query used a deprecated function: `id`.} {position: line: 1, column: 23, offset: 22} for query: 'MATCH (m:Movie) WHERE ID(m) = $id SET m.taglineEmbedding = $embedding'\n"
     ]
    },
    {
     "name": "stdout",
     "output_type": "stream",
     "text": [
      "Updated movie 'Charlie Wilson's War' with embedding.\n",
      "36\n",
      "This Holiday Season… Believe\n",
      "=================\n"
     ]
    },
    {
     "name": "stderr",
     "output_type": "stream",
     "text": [
      "Received notification from DBMS server: {severity: WARNING} {code: Neo.ClientNotification.Statement.FeatureDeprecationWarning} {category: DEPRECATION} {title: This feature is deprecated and will be removed in future versions.} {description: The query used a deprecated function: `id`.} {position: line: 1, column: 23, offset: 22} for query: 'MATCH (m:Movie) WHERE ID(m) = $id SET m.taglineEmbedding = $embedding'\n"
     ]
    },
    {
     "name": "stdout",
     "output_type": "stream",
     "text": [
      "Updated movie 'The Polar Express' with embedding.\n",
      "37\n",
      "Once in a lifetime you get a chance to do something different.\n",
      "=================\n"
     ]
    },
    {
     "name": "stderr",
     "output_type": "stream",
     "text": [
      "Received notification from DBMS server: {severity: WARNING} {code: Neo.ClientNotification.Statement.FeatureDeprecationWarning} {category: DEPRECATION} {title: This feature is deprecated and will be removed in future versions.} {description: The query used a deprecated function: `id`.} {position: line: 1, column: 23, offset: 22} for query: 'MATCH (m:Movie) WHERE ID(m) = $id SET m.taglineEmbedding = $embedding'\n"
     ]
    },
    {
     "name": "stdout",
     "output_type": "stream",
     "text": [
      "Updated movie 'A League of Their Own' with embedding.\n",
      "38\n",
      "Act like you own the place\n",
      "=================\n"
     ]
    },
    {
     "name": "stderr",
     "output_type": "stream",
     "text": [
      "Received notification from DBMS server: {severity: WARNING} {code: Neo.ClientNotification.Statement.FeatureDeprecationWarning} {category: DEPRECATION} {title: This feature is deprecated and will be removed in future versions.} {description: The query used a deprecated function: `id`.} {position: line: 1, column: 23, offset: 22} for query: 'MATCH (m:Movie) WHERE ID(m) = $id SET m.taglineEmbedding = $embedding'\n"
     ]
    },
    {
     "name": "stdout",
     "output_type": "stream",
     "text": [
      "Updated movie 'Parasite' with embedding.\n",
      "39\n",
      "Put on a happy face\n",
      "=================\n"
     ]
    },
    {
     "name": "stderr",
     "output_type": "stream",
     "text": [
      "Received notification from DBMS server: {severity: WARNING} {code: Neo.ClientNotification.Statement.FeatureDeprecationWarning} {category: DEPRECATION} {title: This feature is deprecated and will be removed in future versions.} {description: The query used a deprecated function: `id`.} {position: line: 1, column: 23, offset: 22} for query: 'MATCH (m:Movie) WHERE ID(m) = $id SET m.taglineEmbedding = $embedding'\n"
     ]
    },
    {
     "name": "stdout",
     "output_type": "stream",
     "text": [
      "Updated movie 'Joker' with embedding.\n",
      "40\n",
      "Welcome to the Real World\n",
      "=================\n"
     ]
    },
    {
     "name": "stderr",
     "output_type": "stream",
     "text": [
      "Received notification from DBMS server: {severity: WARNING} {code: Neo.ClientNotification.Statement.FeatureDeprecationWarning} {category: DEPRECATION} {title: This feature is deprecated and will be removed in future versions.} {description: The query used a deprecated function: `id`.} {position: line: 1, column: 23, offset: 22} for query: 'MATCH (m:Movie) WHERE ID(m) = $id SET m.taglineEmbedding = $embedding'\n"
     ]
    },
    {
     "name": "stdout",
     "output_type": "stream",
     "text": [
      "Updated movie 'The Matrix' with embedding.\n",
      "41\n",
      "Free your mind\n",
      "=================\n"
     ]
    },
    {
     "name": "stderr",
     "output_type": "stream",
     "text": [
      "Received notification from DBMS server: {severity: WARNING} {code: Neo.ClientNotification.Statement.FeatureDeprecationWarning} {category: DEPRECATION} {title: This feature is deprecated and will be removed in future versions.} {description: The query used a deprecated function: `id`.} {position: line: 1, column: 23, offset: 22} for query: 'MATCH (m:Movie) WHERE ID(m) = $id SET m.taglineEmbedding = $embedding'\n"
     ]
    },
    {
     "name": "stdout",
     "output_type": "stream",
     "text": [
      "Updated movie 'The Matrix Reloaded' with embedding.\n",
      "42\n",
      "Everything that has a beginning has an end\n",
      "=================\n"
     ]
    },
    {
     "name": "stderr",
     "output_type": "stream",
     "text": [
      "Received notification from DBMS server: {severity: WARNING} {code: Neo.ClientNotification.Statement.FeatureDeprecationWarning} {category: DEPRECATION} {title: This feature is deprecated and will be removed in future versions.} {description: The query used a deprecated function: `id`.} {position: line: 1, column: 23, offset: 22} for query: 'MATCH (m:Movie) WHERE ID(m) = $id SET m.taglineEmbedding = $embedding'\n"
     ]
    },
    {
     "name": "stdout",
     "output_type": "stream",
     "text": [
      "Updated movie 'The Matrix Revolutions' with embedding.\n",
      "43\n",
      "Evil has its winning ways\n",
      "=================\n"
     ]
    },
    {
     "name": "stderr",
     "output_type": "stream",
     "text": [
      "Received notification from DBMS server: {severity: WARNING} {code: Neo.ClientNotification.Statement.FeatureDeprecationWarning} {category: DEPRECATION} {title: This feature is deprecated and will be removed in future versions.} {description: The query used a deprecated function: `id`.} {position: line: 1, column: 23, offset: 22} for query: 'MATCH (m:Movie) WHERE ID(m) = $id SET m.taglineEmbedding = $embedding'\n"
     ]
    },
    {
     "name": "stdout",
     "output_type": "stream",
     "text": [
      "Updated movie 'The Devil's Advocate' with embedding.\n",
      "44\n",
      "In the heart of the nation's capital, in a courthouse of the U.S. government, one man will stop at nothing to keep his honor, and one will stop at nothing to find the truth.\n",
      "=================\n"
     ]
    },
    {
     "name": "stderr",
     "output_type": "stream",
     "text": [
      "Received notification from DBMS server: {severity: WARNING} {code: Neo.ClientNotification.Statement.FeatureDeprecationWarning} {category: DEPRECATION} {title: This feature is deprecated and will be removed in future versions.} {description: The query used a deprecated function: `id`.} {position: line: 1, column: 23, offset: 22} for query: 'MATCH (m:Movie) WHERE ID(m) = $id SET m.taglineEmbedding = $embedding'\n"
     ]
    },
    {
     "name": "stdout",
     "output_type": "stream",
     "text": [
      "Updated movie 'A Few Good Men' with embedding.\n",
      "45\n",
      "I feel the need, the need for speed.\n",
      "=================\n"
     ]
    },
    {
     "name": "stderr",
     "output_type": "stream",
     "text": [
      "Received notification from DBMS server: {severity: WARNING} {code: Neo.ClientNotification.Statement.FeatureDeprecationWarning} {category: DEPRECATION} {title: This feature is deprecated and will be removed in future versions.} {description: The query used a deprecated function: `id`.} {position: line: 1, column: 23, offset: 22} for query: 'MATCH (m:Movie) WHERE ID(m) = $id SET m.taglineEmbedding = $embedding'\n"
     ]
    },
    {
     "name": "stdout",
     "output_type": "stream",
     "text": [
      "Updated movie 'Top Gun' with embedding.\n",
      "46\n",
      "The rest of his life begins now.\n",
      "=================\n"
     ]
    },
    {
     "name": "stderr",
     "output_type": "stream",
     "text": [
      "Received notification from DBMS server: {severity: WARNING} {code: Neo.ClientNotification.Statement.FeatureDeprecationWarning} {category: DEPRECATION} {title: This feature is deprecated and will be removed in future versions.} {description: The query used a deprecated function: `id`.} {position: line: 1, column: 23, offset: 22} for query: 'MATCH (m:Movie) WHERE ID(m) = $id SET m.taglineEmbedding = $embedding'\n"
     ]
    },
    {
     "name": "stdout",
     "output_type": "stream",
     "text": [
      "Updated movie 'Jerry Maguire' with embedding.\n",
      "47\n",
      "For some, it's the last real taste of innocence, and the first real taste of life. But for everyone, it's the time that memories are made of.\n",
      "=================\n"
     ]
    },
    {
     "name": "stderr",
     "output_type": "stream",
     "text": [
      "Received notification from DBMS server: {severity: WARNING} {code: Neo.ClientNotification.Statement.FeatureDeprecationWarning} {category: DEPRECATION} {title: This feature is deprecated and will be removed in future versions.} {description: The query used a deprecated function: `id`.} {position: line: 1, column: 23, offset: 22} for query: 'MATCH (m:Movie) WHERE ID(m) = $id SET m.taglineEmbedding = $embedding'\n"
     ]
    },
    {
     "name": "stdout",
     "output_type": "stream",
     "text": [
      "Updated movie 'Stand By Me' with embedding.\n",
      "48\n",
      "A comedy from the heart that goes for the throat.\n",
      "=================\n"
     ]
    },
    {
     "name": "stderr",
     "output_type": "stream",
     "text": [
      "Received notification from DBMS server: {severity: WARNING} {code: Neo.ClientNotification.Statement.FeatureDeprecationWarning} {category: DEPRECATION} {title: This feature is deprecated and will be removed in future versions.} {description: The query used a deprecated function: `id`.} {position: line: 1, column: 23, offset: 22} for query: 'MATCH (m:Movie) WHERE ID(m) = $id SET m.taglineEmbedding = $embedding'\n"
     ]
    },
    {
     "name": "stdout",
     "output_type": "stream",
     "text": [
      "Updated movie 'As Good as It Gets' with embedding.\n",
      "49\n",
      "After life there is more. The end is just the beginning.\n",
      "=================\n"
     ]
    },
    {
     "name": "stderr",
     "output_type": "stream",
     "text": [
      "Received notification from DBMS server: {severity: WARNING} {code: Neo.ClientNotification.Statement.FeatureDeprecationWarning} {category: DEPRECATION} {title: This feature is deprecated and will be removed in future versions.} {description: The query used a deprecated function: `id`.} {position: line: 1, column: 23, offset: 22} for query: 'MATCH (m:Movie) WHERE ID(m) = $id SET m.taglineEmbedding = $embedding'\n"
     ]
    },
    {
     "name": "stdout",
     "output_type": "stream",
     "text": [
      "Updated movie 'What Dreams May Come' with embedding.\n",
      "50\n",
      "First loves last. Forever.\n",
      "=================\n"
     ]
    },
    {
     "name": "stderr",
     "output_type": "stream",
     "text": [
      "Received notification from DBMS server: {severity: WARNING} {code: Neo.ClientNotification.Statement.FeatureDeprecationWarning} {category: DEPRECATION} {title: This feature is deprecated and will be removed in future versions.} {description: The query used a deprecated function: `id`.} {position: line: 1, column: 23, offset: 22} for query: 'MATCH (m:Movie) WHERE ID(m) = $id SET m.taglineEmbedding = $embedding'\n"
     ]
    },
    {
     "name": "stdout",
     "output_type": "stream",
     "text": [
      "Updated movie 'Snow Falling on Cedars' with embedding.\n",
      "51\n",
      "At odds in life... in love on-line.\n",
      "=================\n"
     ]
    },
    {
     "name": "stderr",
     "output_type": "stream",
     "text": [
      "Received notification from DBMS server: {severity: WARNING} {code: Neo.ClientNotification.Statement.FeatureDeprecationWarning} {category: DEPRECATION} {title: This feature is deprecated and will be removed in future versions.} {description: The query used a deprecated function: `id`.} {position: line: 1, column: 23, offset: 22} for query: 'MATCH (m:Movie) WHERE ID(m) = $id SET m.taglineEmbedding = $embedding'\n"
     ]
    },
    {
     "name": "stdout",
     "output_type": "stream",
     "text": [
      "Updated movie 'You've Got Mail' with embedding.\n",
      "52\n",
      "What if someone you never met, someone you never saw, someone you never knew was the only someone for you?\n",
      "=================\n"
     ]
    },
    {
     "name": "stderr",
     "output_type": "stream",
     "text": [
      "Received notification from DBMS server: {severity: WARNING} {code: Neo.ClientNotification.Statement.FeatureDeprecationWarning} {category: DEPRECATION} {title: This feature is deprecated and will be removed in future versions.} {description: The query used a deprecated function: `id`.} {position: line: 1, column: 23, offset: 22} for query: 'MATCH (m:Movie) WHERE ID(m) = $id SET m.taglineEmbedding = $embedding'\n"
     ]
    },
    {
     "name": "stdout",
     "output_type": "stream",
     "text": [
      "Updated movie 'Sleepless in Seattle' with embedding.\n",
      "53\n",
      "A story of love, lava and burning desire.\n",
      "=================\n"
     ]
    },
    {
     "name": "stderr",
     "output_type": "stream",
     "text": [
      "Received notification from DBMS server: {severity: WARNING} {code: Neo.ClientNotification.Statement.FeatureDeprecationWarning} {category: DEPRECATION} {title: This feature is deprecated and will be removed in future versions.} {description: The query used a deprecated function: `id`.} {position: line: 1, column: 23, offset: 22} for query: 'MATCH (m:Movie) WHERE ID(m) = $id SET m.taglineEmbedding = $embedding'\n"
     ]
    },
    {
     "name": "stdout",
     "output_type": "stream",
     "text": [
      "Updated movie 'Joe Versus the Volcano' with embedding.\n",
      "54\n",
      "At odds in life... in love on-line.\n",
      "=================\n"
     ]
    },
    {
     "name": "stderr",
     "output_type": "stream",
     "text": [
      "Received notification from DBMS server: {severity: WARNING} {code: Neo.ClientNotification.Statement.FeatureDeprecationWarning} {category: DEPRECATION} {title: This feature is deprecated and will be removed in future versions.} {description: The query used a deprecated function: `id`.} {position: line: 1, column: 23, offset: 22} for query: 'MATCH (m:Movie) WHERE ID(m) = $id SET m.taglineEmbedding = $embedding'\n"
     ]
    },
    {
     "name": "stdout",
     "output_type": "stream",
     "text": [
      "Updated movie 'When Harry Met Sally' with embedding.\n",
      "55\n",
      "In every life there comes a time when that thing you dream becomes that thing you do\n",
      "=================\n"
     ]
    },
    {
     "name": "stderr",
     "output_type": "stream",
     "text": [
      "Received notification from DBMS server: {severity: WARNING} {code: Neo.ClientNotification.Statement.FeatureDeprecationWarning} {category: DEPRECATION} {title: This feature is deprecated and will be removed in future versions.} {description: The query used a deprecated function: `id`.} {position: line: 1, column: 23, offset: 22} for query: 'MATCH (m:Movie) WHERE ID(m) = $id SET m.taglineEmbedding = $embedding'\n"
     ]
    },
    {
     "name": "stdout",
     "output_type": "stream",
     "text": [
      "Updated movie 'That Thing You Do' with embedding.\n",
      "56\n",
      "Pain heals, Chicks dig scars... Glory lasts forever\n",
      "=================\n"
     ]
    },
    {
     "name": "stderr",
     "output_type": "stream",
     "text": [
      "Received notification from DBMS server: {severity: WARNING} {code: Neo.ClientNotification.Statement.FeatureDeprecationWarning} {category: DEPRECATION} {title: This feature is deprecated and will be removed in future versions.} {description: The query used a deprecated function: `id`.} {position: line: 1, column: 23, offset: 22} for query: 'MATCH (m:Movie) WHERE ID(m) = $id SET m.taglineEmbedding = $embedding'\n"
     ]
    },
    {
     "name": "stdout",
     "output_type": "stream",
     "text": [
      "Updated movie 'The Replacements' with embedding.\n",
      "57\n",
      "Based on the extraordinary true story of one man's fight for freedom\n",
      "=================\n"
     ]
    },
    {
     "name": "stderr",
     "output_type": "stream",
     "text": [
      "Received notification from DBMS server: {severity: WARNING} {code: Neo.ClientNotification.Statement.FeatureDeprecationWarning} {category: DEPRECATION} {title: This feature is deprecated and will be removed in future versions.} {description: The query used a deprecated function: `id`.} {position: line: 1, column: 23, offset: 22} for query: 'MATCH (m:Movie) WHERE ID(m) = $id SET m.taglineEmbedding = $embedding'\n"
     ]
    },
    {
     "name": "stdout",
     "output_type": "stream",
     "text": [
      "Updated movie 'RescueDawn' with embedding.\n",
      "58\n",
      "Come as you are\n",
      "=================\n"
     ]
    },
    {
     "name": "stderr",
     "output_type": "stream",
     "text": [
      "Received notification from DBMS server: {severity: WARNING} {code: Neo.ClientNotification.Statement.FeatureDeprecationWarning} {category: DEPRECATION} {title: This feature is deprecated and will be removed in future versions.} {description: The query used a deprecated function: `id`.} {position: line: 1, column: 23, offset: 22} for query: 'MATCH (m:Movie) WHERE ID(m) = $id SET m.taglineEmbedding = $embedding'\n"
     ]
    },
    {
     "name": "stdout",
     "output_type": "stream",
     "text": [
      "Updated movie 'The Birdcage' with embedding.\n",
      "59\n",
      "It's a hell of a thing, killing a man\n",
      "=================\n"
     ]
    },
    {
     "name": "stderr",
     "output_type": "stream",
     "text": [
      "Received notification from DBMS server: {severity: WARNING} {code: Neo.ClientNotification.Statement.FeatureDeprecationWarning} {category: DEPRECATION} {title: This feature is deprecated and will be removed in future versions.} {description: The query used a deprecated function: `id`.} {position: line: 1, column: 23, offset: 22} for query: 'MATCH (m:Movie) WHERE ID(m) = $id SET m.taglineEmbedding = $embedding'\n"
     ]
    },
    {
     "name": "stdout",
     "output_type": "stream",
     "text": [
      "Updated movie 'Unforgiven' with embedding.\n",
      "60\n",
      "The hottest data on earth. In the coolest head in town\n",
      "=================\n"
     ]
    },
    {
     "name": "stderr",
     "output_type": "stream",
     "text": [
      "Received notification from DBMS server: {severity: WARNING} {code: Neo.ClientNotification.Statement.FeatureDeprecationWarning} {category: DEPRECATION} {title: This feature is deprecated and will be removed in future versions.} {description: The query used a deprecated function: `id`.} {position: line: 1, column: 23, offset: 22} for query: 'MATCH (m:Movie) WHERE ID(m) = $id SET m.taglineEmbedding = $embedding'\n"
     ]
    },
    {
     "name": "stdout",
     "output_type": "stream",
     "text": [
      "Updated movie 'Johnny Mnemonic' with embedding.\n",
      "61\n",
      "Everything is connected\n",
      "=================\n"
     ]
    },
    {
     "name": "stderr",
     "output_type": "stream",
     "text": [
      "Received notification from DBMS server: {severity: WARNING} {code: Neo.ClientNotification.Statement.FeatureDeprecationWarning} {category: DEPRECATION} {title: This feature is deprecated and will be removed in future versions.} {description: The query used a deprecated function: `id`.} {position: line: 1, column: 23, offset: 22} for query: 'MATCH (m:Movie) WHERE ID(m) = $id SET m.taglineEmbedding = $embedding'\n"
     ]
    },
    {
     "name": "stdout",
     "output_type": "stream",
     "text": [
      "Updated movie 'Cloud Atlas' with embedding.\n",
      "62\n",
      "Break The Codes\n",
      "=================\n"
     ]
    },
    {
     "name": "stderr",
     "output_type": "stream",
     "text": [
      "Received notification from DBMS server: {severity: WARNING} {code: Neo.ClientNotification.Statement.FeatureDeprecationWarning} {category: DEPRECATION} {title: This feature is deprecated and will be removed in future versions.} {description: The query used a deprecated function: `id`.} {position: line: 1, column: 23, offset: 22} for query: 'MATCH (m:Movie) WHERE ID(m) = $id SET m.taglineEmbedding = $embedding'\n"
     ]
    },
    {
     "name": "stdout",
     "output_type": "stream",
     "text": [
      "Updated movie 'The Da Vinci Code' with embedding.\n",
      "63\n",
      "Freedom! Forever!\n",
      "=================\n"
     ]
    },
    {
     "name": "stderr",
     "output_type": "stream",
     "text": [
      "Received notification from DBMS server: {severity: WARNING} {code: Neo.ClientNotification.Statement.FeatureDeprecationWarning} {category: DEPRECATION} {title: This feature is deprecated and will be removed in future versions.} {description: The query used a deprecated function: `id`.} {position: line: 1, column: 23, offset: 22} for query: 'MATCH (m:Movie) WHERE ID(m) = $id SET m.taglineEmbedding = $embedding'\n"
     ]
    },
    {
     "name": "stdout",
     "output_type": "stream",
     "text": [
      "Updated movie 'V for Vendetta' with embedding.\n",
      "64\n",
      "Speed has no limits\n",
      "=================\n"
     ]
    },
    {
     "name": "stderr",
     "output_type": "stream",
     "text": [
      "Received notification from DBMS server: {severity: WARNING} {code: Neo.ClientNotification.Statement.FeatureDeprecationWarning} {category: DEPRECATION} {title: This feature is deprecated and will be removed in future versions.} {description: The query used a deprecated function: `id`.} {position: line: 1, column: 23, offset: 22} for query: 'MATCH (m:Movie) WHERE ID(m) = $id SET m.taglineEmbedding = $embedding'\n"
     ]
    },
    {
     "name": "stdout",
     "output_type": "stream",
     "text": [
      "Updated movie 'Speed Racer' with embedding.\n",
      "65\n",
      "Prepare to enter a secret world of assassins\n",
      "=================\n"
     ]
    },
    {
     "name": "stderr",
     "output_type": "stream",
     "text": [
      "Received notification from DBMS server: {severity: WARNING} {code: Neo.ClientNotification.Statement.FeatureDeprecationWarning} {category: DEPRECATION} {title: This feature is deprecated and will be removed in future versions.} {description: The query used a deprecated function: `id`.} {position: line: 1, column: 23, offset: 22} for query: 'MATCH (m:Movie) WHERE ID(m) = $id SET m.taglineEmbedding = $embedding'\n"
     ]
    },
    {
     "name": "stdout",
     "output_type": "stream",
     "text": [
      "Updated movie 'Ninja Assassin' with embedding.\n",
      "66\n",
      "Walk a mile you'll never forget.\n",
      "=================\n"
     ]
    },
    {
     "name": "stderr",
     "output_type": "stream",
     "text": [
      "Received notification from DBMS server: {severity: WARNING} {code: Neo.ClientNotification.Statement.FeatureDeprecationWarning} {category: DEPRECATION} {title: This feature is deprecated and will be removed in future versions.} {description: The query used a deprecated function: `id`.} {position: line: 1, column: 23, offset: 22} for query: 'MATCH (m:Movie) WHERE ID(m) = $id SET m.taglineEmbedding = $embedding'\n"
     ]
    },
    {
     "name": "stdout",
     "output_type": "stream",
     "text": [
      "Updated movie 'The Green Mile' with embedding.\n",
      "67\n",
      "400 million people were waiting for the truth.\n",
      "=================\n"
     ]
    },
    {
     "name": "stderr",
     "output_type": "stream",
     "text": [
      "Received notification from DBMS server: {severity: WARNING} {code: Neo.ClientNotification.Statement.FeatureDeprecationWarning} {category: DEPRECATION} {title: This feature is deprecated and will be removed in future versions.} {description: The query used a deprecated function: `id`.} {position: line: 1, column: 23, offset: 22} for query: 'MATCH (m:Movie) WHERE ID(m) = $id SET m.taglineEmbedding = $embedding'\n"
     ]
    },
    {
     "name": "stdout",
     "output_type": "stream",
     "text": [
      "Updated movie 'Frost/Nixon' with embedding.\n",
      "68\n",
      "He didn't want law. He wanted justice.\n",
      "=================\n"
     ]
    },
    {
     "name": "stderr",
     "output_type": "stream",
     "text": [
      "Received notification from DBMS server: {severity: WARNING} {code: Neo.ClientNotification.Statement.FeatureDeprecationWarning} {category: DEPRECATION} {title: This feature is deprecated and will be removed in future versions.} {description: The query used a deprecated function: `id`.} {position: line: 1, column: 23, offset: 22} for query: 'MATCH (m:Movie) WHERE ID(m) = $id SET m.taglineEmbedding = $embedding'\n"
     ]
    },
    {
     "name": "stdout",
     "output_type": "stream",
     "text": [
      "Updated movie 'Hoffa' with embedding.\n",
      "69\n",
      "Houston, we have a problem.\n",
      "=================\n"
     ]
    },
    {
     "name": "stderr",
     "output_type": "stream",
     "text": [
      "Received notification from DBMS server: {severity: WARNING} {code: Neo.ClientNotification.Statement.FeatureDeprecationWarning} {category: DEPRECATION} {title: This feature is deprecated and will be removed in future versions.} {description: The query used a deprecated function: `id`.} {position: line: 1, column: 23, offset: 22} for query: 'MATCH (m:Movie) WHERE ID(m) = $id SET m.taglineEmbedding = $embedding'\n"
     ]
    },
    {
     "name": "stdout",
     "output_type": "stream",
     "text": [
      "Updated movie 'Apollo 13' with embedding.\n",
      "70\n",
      "Don't Breathe. Don't Look Back.\n",
      "=================\n"
     ]
    },
    {
     "name": "stderr",
     "output_type": "stream",
     "text": [
      "Received notification from DBMS server: {severity: WARNING} {code: Neo.ClientNotification.Statement.FeatureDeprecationWarning} {category: DEPRECATION} {title: This feature is deprecated and will be removed in future versions.} {description: The query used a deprecated function: `id`.} {position: line: 1, column: 23, offset: 22} for query: 'MATCH (m:Movie) WHERE ID(m) = $id SET m.taglineEmbedding = $embedding'\n"
     ]
    },
    {
     "name": "stdout",
     "output_type": "stream",
     "text": [
      "Updated movie 'Twister' with embedding.\n",
      "71\n",
      "At the edge of the world, his journey begins.\n",
      "=================\n"
     ]
    },
    {
     "name": "stderr",
     "output_type": "stream",
     "text": [
      "Received notification from DBMS server: {severity: WARNING} {code: Neo.ClientNotification.Statement.FeatureDeprecationWarning} {category: DEPRECATION} {title: This feature is deprecated and will be removed in future versions.} {description: The query used a deprecated function: `id`.} {position: line: 1, column: 23, offset: 22} for query: 'MATCH (m:Movie) WHERE ID(m) = $id SET m.taglineEmbedding = $embedding'\n"
     ]
    },
    {
     "name": "stdout",
     "output_type": "stream",
     "text": [
      "Updated movie 'Cast Away' with embedding.\n",
      "72\n",
      "If he's crazy, what does that make you?\n",
      "=================\n"
     ]
    },
    {
     "name": "stderr",
     "output_type": "stream",
     "text": [
      "Received notification from DBMS server: {severity: WARNING} {code: Neo.ClientNotification.Statement.FeatureDeprecationWarning} {category: DEPRECATION} {title: This feature is deprecated and will be removed in future versions.} {description: The query used a deprecated function: `id`.} {position: line: 1, column: 23, offset: 22} for query: 'MATCH (m:Movie) WHERE ID(m) = $id SET m.taglineEmbedding = $embedding'\n"
     ]
    },
    {
     "name": "stdout",
     "output_type": "stream",
     "text": [
      "Updated movie 'One Flew Over the Cuckoo's Nest' with embedding.\n",
      "73\n",
      "One robot's 200 year journey to become an ordinary man.\n",
      "=================\n"
     ]
    },
    {
     "name": "stderr",
     "output_type": "stream",
     "text": [
      "Received notification from DBMS server: {severity: WARNING} {code: Neo.ClientNotification.Statement.FeatureDeprecationWarning} {category: DEPRECATION} {title: This feature is deprecated and will be removed in future versions.} {description: The query used a deprecated function: `id`.} {position: line: 1, column: 23, offset: 22} for query: 'MATCH (m:Movie) WHERE ID(m) = $id SET m.taglineEmbedding = $embedding'\n"
     ]
    },
    {
     "name": "stdout",
     "output_type": "stream",
     "text": [
      "Updated movie 'Bicentennial Man' with embedding.\n",
      "74\n",
      "A stiff drink. A little mascara. A lot of nerve. Who said they couldn't bring down the Soviet empire.\n",
      "=================\n"
     ]
    },
    {
     "name": "stderr",
     "output_type": "stream",
     "text": [
      "Received notification from DBMS server: {severity: WARNING} {code: Neo.ClientNotification.Statement.FeatureDeprecationWarning} {category: DEPRECATION} {title: This feature is deprecated and will be removed in future versions.} {description: The query used a deprecated function: `id`.} {position: line: 1, column: 23, offset: 22} for query: 'MATCH (m:Movie) WHERE ID(m) = $id SET m.taglineEmbedding = $embedding'\n"
     ]
    },
    {
     "name": "stdout",
     "output_type": "stream",
     "text": [
      "Updated movie 'Charlie Wilson's War' with embedding.\n",
      "75\n",
      "This Holiday Season… Believe\n",
      "=================\n"
     ]
    },
    {
     "name": "stderr",
     "output_type": "stream",
     "text": [
      "Received notification from DBMS server: {severity: WARNING} {code: Neo.ClientNotification.Statement.FeatureDeprecationWarning} {category: DEPRECATION} {title: This feature is deprecated and will be removed in future versions.} {description: The query used a deprecated function: `id`.} {position: line: 1, column: 23, offset: 22} for query: 'MATCH (m:Movie) WHERE ID(m) = $id SET m.taglineEmbedding = $embedding'\n"
     ]
    },
    {
     "name": "stdout",
     "output_type": "stream",
     "text": [
      "Updated movie 'The Polar Express' with embedding.\n",
      "76\n",
      "Once in a lifetime you get a chance to do something different.\n",
      "=================\n"
     ]
    },
    {
     "name": "stderr",
     "output_type": "stream",
     "text": [
      "Received notification from DBMS server: {severity: WARNING} {code: Neo.ClientNotification.Statement.FeatureDeprecationWarning} {category: DEPRECATION} {title: This feature is deprecated and will be removed in future versions.} {description: The query used a deprecated function: `id`.} {position: line: 1, column: 23, offset: 22} for query: 'MATCH (m:Movie) WHERE ID(m) = $id SET m.taglineEmbedding = $embedding'\n"
     ]
    },
    {
     "name": "stdout",
     "output_type": "stream",
     "text": [
      "Updated movie 'A League of Their Own' with embedding.\n",
      "77\n",
      "Act like you own the place\n",
      "=================\n"
     ]
    },
    {
     "name": "stderr",
     "output_type": "stream",
     "text": [
      "Received notification from DBMS server: {severity: WARNING} {code: Neo.ClientNotification.Statement.FeatureDeprecationWarning} {category: DEPRECATION} {title: This feature is deprecated and will be removed in future versions.} {description: The query used a deprecated function: `id`.} {position: line: 1, column: 23, offset: 22} for query: 'MATCH (m:Movie) WHERE ID(m) = $id SET m.taglineEmbedding = $embedding'\n"
     ]
    },
    {
     "name": "stdout",
     "output_type": "stream",
     "text": [
      "Updated movie 'Parasite' with embedding.\n",
      "78\n",
      "Put on a happy face\n",
      "=================\n"
     ]
    },
    {
     "name": "stderr",
     "output_type": "stream",
     "text": [
      "Received notification from DBMS server: {severity: WARNING} {code: Neo.ClientNotification.Statement.FeatureDeprecationWarning} {category: DEPRECATION} {title: This feature is deprecated and will be removed in future versions.} {description: The query used a deprecated function: `id`.} {position: line: 1, column: 23, offset: 22} for query: 'MATCH (m:Movie) WHERE ID(m) = $id SET m.taglineEmbedding = $embedding'\n",
      "Received notification from DBMS server: {severity: WARNING} {code: Neo.ClientNotification.Statement.FeatureDeprecationWarning} {category: DEPRECATION} {title: This feature is deprecated and will be removed in future versions.} {description: The query used a deprecated function: `id`.} {position: line: 1, column: 23, offset: 22} for query: 'MATCH (m:Movie) WHERE ID(m) = $id SET m.taglineEmbedding = $embedding'\n"
     ]
    },
    {
     "name": "stdout",
     "output_type": "stream",
     "text": [
      "Updated movie 'Joker' with embedding.\n"
     ]
    }
   ],
   "source": [
    "def add_embedding_to_movie(tx):\n",
    "    \"\"\"모든 Movie 노드의 tagline을 임베딩하고, 그 값을 embedding 속성에 추가\"\"\"\n",
    "    result = tx.run(\"MATCH (m:Movie) WHERE m.tagline IS NOT NULL RETURN m.title AS title, m.tagline AS tagline, ID(m) AS id LIMIT 100\")\n",
    "    cnt = 0\n",
    "    for record in result:\n",
    "        cnt += 1\n",
    "        print(cnt)\n",
    "        title = record[\"title\"]\n",
    "        tagline = record[\"tagline\"]\n",
    "        node_id = record[\"id\"]\n",
    "        print(tagline)\n",
    "        print(\"=================\")\n",
    "        embedding = generate_embedding(tagline)\n",
    "        # 임베딩 벡터를 Neo4j에 저장\n",
    "        tx.run(\"MATCH (m:Movie) WHERE ID(m) = $id SET m.taglineEmbedding = $embedding\", id=node_id, embedding=embedding)\n",
    "        print(f\"Updated movie '{title}' with embedding.\")\n",
    "\n",
    "\n",
    "with driver.session() as session:\n",
    "    session.write_transaction(add_embedding_to_movie)"
   ]
  },
  {
   "cell_type": "markdown",
   "id": "e5427f38",
   "metadata": {},
   "source": [
    "# Embedding 결과 조회\n",
    "\n",
    "```\n",
    "MATCH (m:Movie) WHERE m.tagline IS NOT NULL RETURN m LIMIT 100\n",
    "```"
   ]
  },
  {
   "cell_type": "markdown",
   "id": "78a4d82b",
   "metadata": {},
   "source": [
    "# INDEX \n",
    "\n",
    "노드, 관계 또는 속성과 같은 Neo4J 데이터 베이스의 지정된 기본 데이터의 복사본   \n",
    "DB 데이터에 대한 엑세스 경로를 제공하여 데이터 검색을 더 빠르게 할 수 있도록 하여 효율적이다. \n",
    "\n"
   ]
  },
  {
   "cell_type": "markdown",
   "id": "8182647b",
   "metadata": {},
   "source": [
    "```\n",
    "CREATE VECTOR INDEX movieTaglineEmbedding FOR (n:Movie) ON (n.taglineEmbedding) OPTIONS {indexConfig: {\n",
    " `vector.dimensions`: 1536,\n",
    " `vector.similarity_function`: 'cosine'\n",
    "}}\n",
    "```"
   ]
  },
  {
   "cell_type": "markdown",
   "id": "967e0113",
   "metadata": {},
   "source": [
    "# Vector Retriever 구성 \n",
    "\n",
    "```python\n",
    "import neo4j\n",
    "from neo4j_genai.retrievers import VectorRetriever\n",
    "\n",
    "driver = neo4j.GraphDatabase.driver(URI, auth=AUTH)\n",
    "\n",
    "retriever = VectorRetriever(driver, \"vector-index-name\", custom_embedder)\n",
    "\n",
    "retriever.search(query_text=\"Find me a book about Fremen\", top_k=5)\n",
    "```\n",
    "\n",
    "## Neo4j VectorRetriever Example\n",
    "\n",
    "이 예제는 OpenAI 임베딩 모델과 Neo4j의 벡터 검색 기능을 활용하여 텍스트 기반 검색을 수행하는 방법을 보여줍니다.\n",
    "\n",
    "### 코드 예시\n",
    "\n",
    "```python\n",
    "from openai import OpenAIEmbeddings\n",
    "from neo4j_genai.retrievers import VectorRetriever\n",
    "\n",
    "embedder = OpenAIEmbeddings(model=\"text-embedding-ada-002\")\n",
    "\n",
    "retriever = VectorRetriever(\n",
    "    driver,\n",
    "    index_name=\"moviePlotsEmbedding\",\n",
    "    embedder=embedder,\n",
    "    return_properties=[\"title\", \"tagline\"],\n",
    ")\n",
    "```\n",
    "\n",
    "### 항목설명\n",
    "\n",
    "| 파라미터                | 타입                   | 설명                                                                     |\n",
    "| ------------------ | -------------------- | ---------------------------------------------------------------------- |\n",
    "| `driver`            | `neo4j.Driver`       | Neo4j Python 드라이버.   Neo4j 데이터베이스와의 연결을 관리합니다.                           |\n",
    "| `index_name`        | `str`                | 벡터 인덱스의 이름.   이 인덱스는 벡터화된 데이터가 저장된 위치를 나타냅니다.                            |\n",
    "| `embedder`          | `Optional[Embedder]` | 쿼리 텍스트를 임베딩으로 변환하는 역할.   이 파라미터가 제공되면, 쿼리 텍스트는 먼저 임베딩으로 변환된 후 검색에 사용됩니다. |\n",
    "| `return_properties` | `List[str]`          | 검색 결과로 반환할 노드 속성의 리스트입니다.   예: `[\"title\", \"tagline\"]`                       |\n"
   ]
  },
  {
   "cell_type": "code",
   "execution_count": 26,
   "id": "cb27ac56",
   "metadata": {},
   "outputs": [
    {
     "name": "stderr",
     "output_type": "stream",
     "text": [
      "/var/folders/_r/_zcn1yz91b9glhr_b0qj94_40000gn/T/ipykernel_46671/644026816.py:4: LangChainDeprecationWarning: The class `OpenAIEmbeddings` was deprecated in LangChain 0.0.9 and will be removed in 1.0. An updated version of the class exists in the :class:`~langchain-openai package and should be used instead. To use it run `pip install -U :class:`~langchain-openai` and import as `from :class:`~langchain_openai import OpenAIEmbeddings``.\n",
      "  embedder = OpenAIEmbeddings(model=\"text-embedding-ada-002\")\n"
     ]
    }
   ],
   "source": [
    "from langchain.embeddings import OpenAIEmbeddings\n",
    "from neo4j_genai.retrievers import VectorRetriever\n",
    "\n",
    "embedder = OpenAIEmbeddings(model=\"text-embedding-ada-002\")\n",
    "\n",
    "retriever = VectorRetriever(\n",
    "    driver,\n",
    "    index_name=\"movieTaglineEmbedding\",\n",
    "    embedder=embedder,\n",
    "    return_properties=[\"title\", \"tagline\"],\n",
    ")"
   ]
  },
  {
   "cell_type": "code",
   "execution_count": 28,
   "id": "c5263389",
   "metadata": {},
   "outputs": [
    {
     "name": "stdout",
     "output_type": "stream",
     "text": [
      "items=[RetrieverResultItem(content='{\\'title\\': \\'Unforgiven\\', \\'tagline\\': \"It\\'s a hell of a thing, killing a man\"}', metadata={'score': 0.94403076171875, 'nodeLabels': None, 'id': None}), RetrieverResultItem(content='{\\'title\\': \\'Unforgiven\\', \\'tagline\\': \"It\\'s a hell of a thing, killing a man\"}', metadata={'score': 0.94403076171875, 'nodeLabels': None, 'id': None}), RetrieverResultItem(content='{\\'title\\': \\'Hoffa\\', \\'tagline\\': \"He didn\\'t want law. He wanted justice.\"}', metadata={'score': 0.8964996337890625, 'nodeLabels': None, 'id': None})] metadata={'__retriever': 'VectorRetriever'}\n"
     ]
    }
   ],
   "source": [
    "query_text = \"killing a man\" # 토이스토리 줄거리\n",
    "retriever_result = retriever.search(query_text=query_text, top_k=3)\n",
    "print(retriever_result)"
   ]
  },
  {
   "cell_type": "markdown",
   "id": "1e64fb26",
   "metadata": {},
   "source": [
    "# Neo4j 조회 결과\n",
    "\n",
    "![GraphDB Neo4j 조회 결과](docs/graphrag/neo4j/assets/graph_rag_01.png)"
   ]
  },
  {
   "cell_type": "markdown",
   "id": "f92e810e",
   "metadata": {},
   "source": [
    "# 그래서 GraphRAG는\n",
    "\n",
    "GraphDB를 기반으로 RAG를 구현하는 것. \n",
    "단순히 벡터 데이터베이스 기반의 Retrieval 방식의 유사도 검색이 아닌, \n",
    "Knowledge Graph를 구축해 검색 대상들(엔티티)간의 관계를 파악해 더 세분화된 지식 검색을 하는것."
   ]
  },
  {
   "cell_type": "markdown",
   "id": "4d275e3d",
   "metadata": {},
   "source": [
    "# Load Movie\n",
    "\n",
    "```\n",
    "// load movies\n",
    "// This is an initialization script for the movie graph.\n",
    "// Run it only once. ;)\n",
    "// Have you run it twice? Use `MATCH (n) WHERE (n:Person OR n:Movie) DETACH DELETE n` to start over.\n",
    "CREATE (TheMatrix:Movie {title:'The Matrix', released:1999, tagline:'Welcome to the Real World'})\n",
    "CREATE (Keanu:Person {name:'Keanu Reeves', born:1964})\n",
    "CREATE (Carrie:Person {name:'Carrie-Anne Moss', born:1967})\n",
    "CREATE (Laurence:Person {name:'Laurence Fishburne', born:1961})\n",
    "CREATE (Hugo:Person {name:'Hugo Weaving', born:1960})\n",
    "CREATE (AndyW:Person {name:'Andy Wachowski', born:1967})\n",
    "CREATE (LanaW:Person {name:'Lana Wachowski', born:1965})\n",
    "CREATE (JoelS:Person {name:'Joel Silver', born:1952})\n",
    "CREATE\n",
    "  (Keanu)-[:ACTED_IN {roles:['Neo']}]->(TheMatrix),\n",
    "  (Carrie)-[:ACTED_IN {roles:['Trinity']}]->(TheMatrix),\n",
    "  (Laurence)-[:ACTED_IN {roles:['Morpheus']}]->(TheMatrix),\n",
    "  (Hugo)-[:ACTED_IN {roles:['Agent Smith']}]->(TheMatrix),\n",
    "  (AndyW)-[:DIRECTED]->(TheMatrix),\n",
    "  (LanaW)-[:DIRECTED]->(TheMatrix),\n",
    "  (JoelS)-[:PRODUCED]->(TheMatrix)\n",
    "CREATE (Emil:Person {name:\"Emil Eifrem\", born:1978})\n",
    "CREATE (Emil)-[:ACTED_IN {roles:[\"Emil\"]}]->(TheMatrix)\n",
    "CREATE (TheMatrixReloaded:Movie {title:'The Matrix Reloaded', released:2003, tagline:'Free your mind'})\n",
    "CREATE\n",
    "  (Keanu)-[:ACTED_IN {roles:['Neo']}]->(TheMatrixReloaded),\n",
    "  (Carrie)-[:ACTED_IN {roles:['Trinity']}]->(TheMatrixReloaded),\n",
    "  (Laurence)-[:ACTED_IN {roles:['Morpheus']}]->(TheMatrixReloaded),\n",
    "  (Hugo)-[:ACTED_IN {roles:['Agent Smith']}]->(TheMatrixReloaded),\n",
    "  (AndyW)-[:DIRECTED]->(TheMatrixReloaded),\n",
    "  (LanaW)-[:DIRECTED]->(TheMatrixReloaded),\n",
    "  (JoelS)-[:PRODUCED]->(TheMatrixReloaded)\n",
    "CREATE (TheMatrixRevolutions:Movie {title:'The Matrix Revolutions', released:2003, tagline:'Everything that has a beginning has an end'})\n",
    "CREATE\n",
    "  (Keanu)-[:ACTED_IN {roles:['Neo']}]->(TheMatrixRevolutions),\n",
    "  (Carrie)-[:ACTED_IN {roles:['Trinity']}]->(TheMatrixRevolutions),\n",
    "  (Laurence)-[:ACTED_IN {roles:['Morpheus']}]->(TheMatrixRevolutions),\n",
    "  (Hugo)-[:ACTED_IN {roles:['Agent Smith']}]->(TheMatrixRevolutions),\n",
    "  (AndyW)-[:DIRECTED]->(TheMatrixRevolutions),\n",
    "  (LanaW)-[:DIRECTED]->(TheMatrixRevolutions),\n",
    "  (JoelS)-[:PRODUCED]->(TheMatrixRevolutions)\n",
    "CREATE (TheDevilsAdvocate:Movie {title:\"The Devil's Advocate\", released:1997, tagline:'Evil has its winning ways'})\n",
    "CREATE (Charlize:Person {name:'Charlize Theron', born:1975})\n",
    "CREATE (Al:Person {name:'Al Pacino', born:1940})\n",
    "CREATE (Taylor:Person {name:'Taylor Hackford', born:1944})\n",
    "CREATE\n",
    "  (Keanu)-[:ACTED_IN {roles:['Kevin Lomax']}]->(TheDevilsAdvocate),\n",
    "  (Charlize)-[:ACTED_IN {roles:['Mary Ann Lomax']}]->(TheDevilsAdvocate),\n",
    "  (Al)-[:ACTED_IN {roles:['John Milton']}]->(TheDevilsAdvocate),\n",
    "  (Taylor)-[:DIRECTED]->(TheDevilsAdvocate)\n",
    "CREATE (AFewGoodMen:Movie {title:\"A Few Good Men\", released:1992, tagline:\"In the heart of the nation's capital, in a courthouse of the U.S. government, one man will stop at nothing to keep his honor, and one will stop at nothing to find the truth.\"})\n",
    "CREATE (TomC:Person {name:'Tom Cruise', born:1962})\n",
    "CREATE (JackN:Person {name:'Jack Nicholson', born:1937})\n",
    "CREATE (DemiM:Person {name:'Demi Moore', born:1962})\n",
    "CREATE (KevinB:Person {name:'Kevin Bacon', born:1958})\n",
    "CREATE (KieferS:Person {name:'Kiefer Sutherland', born:1966})\n",
    "CREATE (NoahW:Person {name:'Noah Wyle', born:1971})\n",
    "CREATE (CubaG:Person {name:'Cuba Gooding Jr.', born:1968})\n",
    "CREATE (KevinP:Person {name:'Kevin Pollak', born:1957})\n",
    "CREATE (JTW:Person {name:'J.T. Walsh', born:1943})\n",
    "CREATE (JamesM:Person {name:'James Marshall', born:1967})\n",
    "CREATE (ChristopherG:Person {name:'Christopher Guest', born:1948})\n",
    "CREATE (RobR:Person {name:'Rob Reiner', born:1947})\n",
    "CREATE (AaronS:Person {name:'Aaron Sorkin', born:1961})\n",
    "CREATE\n",
    "  (TomC)-[:ACTED_IN {roles:['Lt. Daniel Kaffee']}]->(AFewGoodMen),\n",
    "  (JackN)-[:ACTED_IN {roles:['Col. Nathan R. Jessup']}]->(AFewGoodMen),\n",
    "  (DemiM)-[:ACTED_IN {roles:['Lt. Cdr. JoAnne Galloway']}]->(AFewGoodMen),\n",
    "  (KevinB)-[:ACTED_IN {roles:['Capt. Jack Ross']}]->(AFewGoodMen),\n",
    "  (KieferS)-[:ACTED_IN {roles:['Lt. Jonathan Kendrick']}]->(AFewGoodMen),\n",
    "  (NoahW)-[:ACTED_IN {roles:['Cpl. Jeffrey Barnes']}]->(AFewGoodMen),\n",
    "  (CubaG)-[:ACTED_IN {roles:['Cpl. Carl Hammaker']}]->(AFewGoodMen),\n",
    "  (KevinP)-[:ACTED_IN {roles:['Lt. Sam Weinberg']}]->(AFewGoodMen),\n",
    "  (JTW)-[:ACTED_IN {roles:['Lt. Col. Matthew Andrew Markinson']}]->(AFewGoodMen),\n",
    "  (JamesM)-[:ACTED_IN {roles:['Pfc. Louden Downey']}]->(AFewGoodMen),\n",
    "  (ChristopherG)-[:ACTED_IN {roles:['Dr. Stone']}]->(AFewGoodMen),\n",
    "  (AaronS)-[:ACTED_IN {roles:['Man in Bar']}]->(AFewGoodMen),\n",
    "  (RobR)-[:DIRECTED]->(AFewGoodMen),\n",
    "  (AaronS)-[:WROTE]->(AFewGoodMen)\n",
    "CREATE (TopGun:Movie {title:\"Top Gun\", released:1986, tagline:'I feel the need, the need for speed.'})\n",
    "CREATE (KellyM:Person {name:'Kelly McGillis', born:1957})\n",
    "CREATE (ValK:Person {name:'Val Kilmer', born:1959})\n",
    "CREATE (AnthonyE:Person {name:'Anthony Edwards', born:1962})\n",
    "CREATE (TomS:Person {name:'Tom Skerritt', born:1933})\n",
    "CREATE (MegR:Person {name:'Meg Ryan', born:1961})\n",
    "CREATE (TonyS:Person {name:'Tony Scott', born:1944})\n",
    "CREATE (JimC:Person {name:'Jim Cash', born:1941})\n",
    "CREATE\n",
    "  (TomC)-[:ACTED_IN {roles:['Maverick']}]->(TopGun),\n",
    "  (KellyM)-[:ACTED_IN {roles:['Charlie']}]->(TopGun),\n",
    "  (ValK)-[:ACTED_IN {roles:['Iceman']}]->(TopGun),\n",
    "  (AnthonyE)-[:ACTED_IN {roles:['Goose']}]->(TopGun),\n",
    "  (TomS)-[:ACTED_IN {roles:['Viper']}]->(TopGun),\n",
    "  (MegR)-[:ACTED_IN {roles:['Carole']}]->(TopGun),\n",
    "  (TonyS)-[:DIRECTED]->(TopGun),\n",
    "  (JimC)-[:WROTE]->(TopGun)\n",
    "CREATE (JerryMaguire:Movie {title:'Jerry Maguire', released:2000, tagline:'The rest of his life begins now.'})\n",
    "CREATE (ReneeZ:Person {name:'Renee Zellweger', born:1969})\n",
    "CREATE (KellyP:Person {name:'Kelly Preston', born:1962})\n",
    "CREATE (JerryO:Person {name:\"Jerry O'Connell\", born:1974})\n",
    "CREATE (JayM:Person {name:'Jay Mohr', born:1970})\n",
    "CREATE (BonnieH:Person {name:'Bonnie Hunt', born:1961})\n",
    "CREATE (ReginaK:Person {name:'Regina King', born:1971})\n",
    "CREATE (JonathanL:Person {name:'Jonathan Lipnicki', born:1996})\n",
    "CREATE (CameronC:Person {name:'Cameron Crowe', born:1957})\n",
    "CREATE\n",
    "  (TomC)-[:ACTED_IN {roles:['Jerry Maguire']}]->(JerryMaguire),\n",
    "  (CubaG)-[:ACTED_IN {roles:['Rod Tidwell']}]->(JerryMaguire),\n",
    "  (ReneeZ)-[:ACTED_IN {roles:['Dorothy Boyd']}]->(JerryMaguire),\n",
    "  (KellyP)-[:ACTED_IN {roles:['Avery Bishop']}]->(JerryMaguire),\n",
    "  (JerryO)-[:ACTED_IN {roles:['Frank Cushman']}]->(JerryMaguire),\n",
    "  (JayM)-[:ACTED_IN {roles:['Bob Sugar']}]->(JerryMaguire),\n",
    "  (BonnieH)-[:ACTED_IN {roles:['Laurel Boyd']}]->(JerryMaguire),\n",
    "  (ReginaK)-[:ACTED_IN {roles:['Marcee Tidwell']}]->(JerryMaguire),\n",
    "  (JonathanL)-[:ACTED_IN {roles:['Ray Boyd']}]->(JerryMaguire),\n",
    "  (CameronC)-[:DIRECTED]->(JerryMaguire),\n",
    "  (CameronC)-[:PRODUCED]->(JerryMaguire),\n",
    "  (CameronC)-[:WROTE]->(JerryMaguire)\n",
    "CREATE (StandByMe:Movie {title:\"Stand By Me\", released:1986, tagline:\"For some, it's the last real taste of innocence, and the first real taste of life. But for everyone, it's the time that memories are made of.\"})\n",
    "CREATE (RiverP:Person {name:'River Phoenix', born:1970})\n",
    "CREATE (CoreyF:Person {name:'Corey Feldman', born:1971})\n",
    "CREATE (WilW:Person {name:'Wil Wheaton', born:1972})\n",
    "CREATE (JohnC:Person {name:'John Cusack', born:1966})\n",
    "CREATE (MarshallB:Person {name:'Marshall Bell', born:1942})\n",
    "CREATE\n",
    "  (WilW)-[:ACTED_IN {roles:['Gordie Lachance']}]->(StandByMe),\n",
    "  (RiverP)-[:ACTED_IN {roles:['Chris Chambers']}]->(StandByMe),\n",
    "  (JerryO)-[:ACTED_IN {roles:['Vern Tessio']}]->(StandByMe),\n",
    "  (CoreyF)-[:ACTED_IN {roles:['Teddy Duchamp']}]->(StandByMe),\n",
    "  (JohnC)-[:ACTED_IN {roles:['Denny Lachance']}]->(StandByMe),\n",
    "  (KieferS)-[:ACTED_IN {roles:['Ace Merrill']}]->(StandByMe),\n",
    "  (MarshallB)-[:ACTED_IN {roles:['Mr. Lachance']}]->(StandByMe),\n",
    "  (RobR)-[:DIRECTED]->(StandByMe)\n",
    "CREATE (AsGoodAsItGets:Movie {title:'As Good as It Gets', released:1997, tagline:'A comedy from the heart that goes for the throat.'})\n",
    "CREATE (HelenH:Person {name:'Helen Hunt', born:1963})\n",
    "CREATE (GregK:Person {name:'Greg Kinnear', born:1963})\n",
    "CREATE (JamesB:Person {name:'James L. Brooks', born:1940})\n",
    "CREATE\n",
    "  (JackN)-[:ACTED_IN {roles:['Melvin Udall']}]->(AsGoodAsItGets),\n",
    "  (HelenH)-[:ACTED_IN {roles:['Carol Connelly']}]->(AsGoodAsItGets),\n",
    "  (GregK)-[:ACTED_IN {roles:['Simon Bishop']}]->(AsGoodAsItGets),\n",
    "  (CubaG)-[:ACTED_IN {roles:['Frank Sachs']}]->(AsGoodAsItGets),\n",
    "  (JamesB)-[:DIRECTED]->(AsGoodAsItGets)\n",
    "CREATE (WhatDreamsMayCome:Movie {title:'What Dreams May Come', released:1998, tagline:'After life there is more. The end is just the beginning.'})\n",
    "CREATE (AnnabellaS:Person {name:'Annabella Sciorra', born:1960})\n",
    "CREATE (MaxS:Person {name:'Max von Sydow', born:1929})\n",
    "CREATE (WernerH:Person {name:'Werner Herzog', born:1942})\n",
    "CREATE (Robin:Person {name:'Robin Williams', born:1951})\n",
    "CREATE (VincentW:Person {name:'Vincent Ward', born:1956})\n",
    "CREATE\n",
    "  (Robin)-[:ACTED_IN {roles:['Chris Nielsen']}]->(WhatDreamsMayCome),\n",
    "  (CubaG)-[:ACTED_IN {roles:['Albert Lewis']}]->(WhatDreamsMayCome),\n",
    "  (AnnabellaS)-[:ACTED_IN {roles:['Annie Collins-Nielsen']}]->(WhatDreamsMayCome),\n",
    "  (MaxS)-[:ACTED_IN {roles:['The Tracker']}]->(WhatDreamsMayCome),\n",
    "  (WernerH)-[:ACTED_IN {roles:['The Face']}]->(WhatDreamsMayCome),\n",
    "  (VincentW)-[:DIRECTED]->(WhatDreamsMayCome)\n",
    "CREATE (SnowFallingonCedars:Movie {title:'Snow Falling on Cedars', released:1999, tagline:'First loves last. Forever.'})\n",
    "CREATE (EthanH:Person {name:'Ethan Hawke', born:1970})\n",
    "CREATE (RickY:Person {name:'Rick Yune', born:1971})\n",
    "CREATE (JamesC:Person {name:'James Cromwell', born:1940})\n",
    "CREATE (ScottH:Person {name:'Scott Hicks', born:1953})\n",
    "CREATE\n",
    "  (EthanH)-[:ACTED_IN {roles:['Ishmael Chambers']}]->(SnowFallingonCedars),\n",
    "  (RickY)-[:ACTED_IN {roles:['Kazuo Miyamoto']}]->(SnowFallingonCedars),\n",
    "  (MaxS)-[:ACTED_IN {roles:['Nels Gudmundsson']}]->(SnowFallingonCedars),\n",
    "  (JamesC)-[:ACTED_IN {roles:['Judge Fielding']}]->(SnowFallingonCedars),\n",
    "  (ScottH)-[:DIRECTED]->(SnowFallingonCedars)\n",
    "CREATE (YouveGotMail:Movie {title:\"You've Got Mail\", released:1998, tagline:'At odds in life... in love on-line.'})\n",
    "CREATE (ParkerP:Person {name:'Parker Posey', born:1968})\n",
    "CREATE (DaveC:Person {name:'Dave Chappelle', born:1973})\n",
    "CREATE (SteveZ:Person {name:'Steve Zahn', born:1967})\n",
    "CREATE (TomH:Person {name:'Tom Hanks', born:1956})\n",
    "CREATE (NoraE:Person {name:'Nora Ephron', born:1941})\n",
    "CREATE\n",
    "  (TomH)-[:ACTED_IN {roles:['Joe Fox']}]->(YouveGotMail),\n",
    "  (MegR)-[:ACTED_IN {roles:['Kathleen Kelly']}]->(YouveGotMail),\n",
    "  (GregK)-[:ACTED_IN {roles:['Frank Navasky']}]->(YouveGotMail),\n",
    "  (ParkerP)-[:ACTED_IN {roles:['Patricia Eden']}]->(YouveGotMail),\n",
    "  (DaveC)-[:ACTED_IN {roles:['Kevin Jackson']}]->(YouveGotMail),\n",
    "  (SteveZ)-[:ACTED_IN {roles:['George Pappas']}]->(YouveGotMail),\n",
    "  (NoraE)-[:DIRECTED]->(YouveGotMail)\n",
    "CREATE (SleeplessInSeattle:Movie {title:'Sleepless in Seattle', released:1993, tagline:'What if someone you never met, someone you never saw, someone you never knew was the only someone for you?'})\n",
    "CREATE (RitaW:Person {name:'Rita Wilson', born:1956})\n",
    "CREATE (BillPull:Person {name:'Bill Pullman', born:1953})\n",
    "CREATE (VictorG:Person {name:'Victor Garber', born:1949})\n",
    "CREATE (RosieO:Person {name:\"Rosie O'Donnell\", born:1962})\n",
    "CREATE\n",
    "  (TomH)-[:ACTED_IN {roles:['Sam Baldwin']}]->(SleeplessInSeattle),\n",
    "  (MegR)-[:ACTED_IN {roles:['Annie Reed']}]->(SleeplessInSeattle),\n",
    "  (RitaW)-[:ACTED_IN {roles:['Suzy']}]->(SleeplessInSeattle),\n",
    "  (BillPull)-[:ACTED_IN {roles:['Walter']}]->(SleeplessInSeattle),\n",
    "  (VictorG)-[:ACTED_IN {roles:['Greg']}]->(SleeplessInSeattle),\n",
    "  (RosieO)-[:ACTED_IN {roles:['Becky']}]->(SleeplessInSeattle),\n",
    "  (NoraE)-[:DIRECTED]->(SleeplessInSeattle)\n",
    "CREATE (JoeVersustheVolcano:Movie {title:'Joe Versus the Volcano', released:1990, tagline:'A story of love, lava and burning desire.'})\n",
    "CREATE (JohnS:Person {name:'John Patrick Stanley', born:1950})\n",
    "CREATE (Nathan:Person {name:'Nathan Lane', born:1956})\n",
    "CREATE\n",
    "  (TomH)-[:ACTED_IN {roles:['Joe Banks']}]->(JoeVersustheVolcano),\n",
    "  (MegR)-[:ACTED_IN {roles:['DeDe', 'Angelica Graynamore', 'Patricia Graynamore']}]->(JoeVersustheVolcano),\n",
    "  (Nathan)-[:ACTED_IN {roles:['Baw']}]->(JoeVersustheVolcano),\n",
    "  (JohnS)-[:DIRECTED]->(JoeVersustheVolcano)\n",
    "CREATE (WhenHarryMetSally:Movie {title:'When Harry Met Sally', released:1998, tagline:'At odds in life... in love on-line.'})\n",
    "CREATE (BillyC:Person {name:'Billy Crystal', born:1948})\n",
    "CREATE (CarrieF:Person {name:'Carrie Fisher', born:1956})\n",
    "CREATE (BrunoK:Person {name:'Bruno Kirby', born:1949})\n",
    "CREATE\n",
    "  (BillyC)-[:ACTED_IN {roles:['Harry Burns']}]->(WhenHarryMetSally),\n",
    "  (MegR)-[:ACTED_IN {roles:['Sally Albright']}]->(WhenHarryMetSally),\n",
    "  (CarrieF)-[:ACTED_IN {roles:['Marie']}]->(WhenHarryMetSally),\n",
    "  (BrunoK)-[:ACTED_IN {roles:['Jess']}]->(WhenHarryMetSally),\n",
    "  (RobR)-[:DIRECTED]->(WhenHarryMetSally),\n",
    "  (RobR)-[:PRODUCED]->(WhenHarryMetSally),\n",
    "  (NoraE)-[:PRODUCED]->(WhenHarryMetSally),\n",
    "  (NoraE)-[:WROTE]->(WhenHarryMetSally)\n",
    "CREATE (ThatThingYouDo:Movie {title:'That Thing You Do', released:1996, tagline:'In every life there comes a time when that thing you dream becomes that thing you do'})\n",
    "CREATE (LivT:Person {name:'Liv Tyler', born:1977})\n",
    "CREATE\n",
    "  (TomH)-[:ACTED_IN {roles:['Mr. White']}]->(ThatThingYouDo),\n",
    "  (LivT)-[:ACTED_IN {roles:['Faye Dolan']}]->(ThatThingYouDo),\n",
    "  (Charlize)-[:ACTED_IN {roles:['Tina']}]->(ThatThingYouDo),\n",
    "  (TomH)-[:DIRECTED]->(ThatThingYouDo)\n",
    "CREATE (TheReplacements:Movie {title:'The Replacements', released:2000, tagline:'Pain heals, Chicks dig scars... Glory lasts forever'})\n",
    "CREATE (Brooke:Person {name:'Brooke Langton', born:1970})\n",
    "CREATE (Gene:Person {name:'Gene Hackman', born:1930})\n",
    "CREATE (Orlando:Person {name:'Orlando Jones', born:1968})\n",
    "CREATE (Howard:Person {name:'Howard Deutch', born:1950})\n",
    "CREATE\n",
    "  (Keanu)-[:ACTED_IN {roles:['Shane Falco']}]->(TheReplacements),\n",
    "  (Brooke)-[:ACTED_IN {roles:['Annabelle Farrell']}]->(TheReplacements),\n",
    "  (Gene)-[:ACTED_IN {roles:['Jimmy McGinty']}]->(TheReplacements),\n",
    "  (Orlando)-[:ACTED_IN {roles:['Clifford Franklin']}]->(TheReplacements),\n",
    "  (Howard)-[:DIRECTED]->(TheReplacements)\n",
    "CREATE (RescueDawn:Movie {title:'RescueDawn', released:2006, tagline:\"Based on the extraordinary true story of one man's fight for freedom\"})\n",
    "CREATE (ChristianB:Person {name:'Christian Bale', born:1974})\n",
    "CREATE (ZachG:Person {name:'Zach Grenier', born:1954})\n",
    "CREATE\n",
    "  (MarshallB)-[:ACTED_IN {roles:['Admiral']}]->(RescueDawn),\n",
    "  (ChristianB)-[:ACTED_IN {roles:['Dieter Dengler']}]->(RescueDawn),\n",
    "  (ZachG)-[:ACTED_IN {roles:['Squad Leader']}]->(RescueDawn),\n",
    "  (SteveZ)-[:ACTED_IN {roles:['Duane']}]->(RescueDawn),\n",
    "  (WernerH)-[:DIRECTED]->(RescueDawn)\n",
    "CREATE (TheBirdcage:Movie {title:'The Birdcage', released:1996, tagline:'Come as you are'})\n",
    "CREATE (MikeN:Person {name:'Mike Nichols', born:1931})\n",
    "CREATE\n",
    "  (Robin)-[:ACTED_IN {roles:['Armand Goldman']}]->(TheBirdcage),\n",
    "  (Nathan)-[:ACTED_IN {roles:['Albert Goldman']}]->(TheBirdcage),\n",
    "  (Gene)-[:ACTED_IN {roles:['Sen. Kevin Keeley']}]->(TheBirdcage),\n",
    "  (MikeN)-[:DIRECTED]->(TheBirdcage)\n",
    "CREATE (Unforgiven:Movie {title:'Unforgiven', released:1992, tagline:\"It's a hell of a thing, killing a man\"})\n",
    "CREATE (RichardH:Person {name:'Richard Harris', born:1930})\n",
    "CREATE (ClintE:Person {name:'Clint Eastwood', born:1930})\n",
    "CREATE\n",
    "  (RichardH)-[:ACTED_IN {roles:['English Bob']}]->(Unforgiven),\n",
    "  (ClintE)-[:ACTED_IN {roles:['Bill Munny']}]->(Unforgiven),\n",
    "  (Gene)-[:ACTED_IN {roles:['Little Bill Daggett']}]->(Unforgiven),\n",
    "  (ClintE)-[:DIRECTED]->(Unforgiven)\n",
    "CREATE (JohnnyMnemonic:Movie {title:'Johnny Mnemonic', released:1995, tagline:'The hottest data on earth. In the coolest head in town'})\n",
    "CREATE (Takeshi:Person {name:'Takeshi Kitano', born:1947})\n",
    "CREATE (Dina:Person {name:'Dina Meyer', born:1968})\n",
    "CREATE (IceT:Person {name:'Ice-T', born:1958})\n",
    "CREATE (RobertL:Person {name:'Robert Longo', born:1953})\n",
    "CREATE\n",
    "  (Keanu)-[:ACTED_IN {roles:['Johnny Mnemonic']}]->(JohnnyMnemonic),\n",
    "  (Takeshi)-[:ACTED_IN {roles:['Takahashi']}]->(JohnnyMnemonic),\n",
    "  (Dina)-[:ACTED_IN {roles:['Jane']}]->(JohnnyMnemonic),\n",
    "  (IceT)-[:ACTED_IN {roles:['J-Bone']}]->(JohnnyMnemonic),\n",
    "  (RobertL)-[:DIRECTED]->(JohnnyMnemonic)\n",
    "CREATE (CloudAtlas:Movie {title:'Cloud Atlas', released:2012, tagline:'Everything is connected'})\n",
    "CREATE (HalleB:Person {name:'Halle Berry', born:1966})\n",
    "CREATE (JimB:Person {name:'Jim Broadbent', born:1949})\n",
    "CREATE (TomT:Person {name:'Tom Tykwer', born:1965})\n",
    "CREATE\n",
    "  (TomH)-[:ACTED_IN {roles:['Zachry', 'Dr. Henry Goose', 'Isaac Sachs', 'Dermot Hoggins']}]->(CloudAtlas),\n",
    "  (Hugo)-[:ACTED_IN {roles:['Bill Smoke', 'Haskell Moore', 'Tadeusz Kesselring', 'Nurse Noakes', 'Boardman Mephi', 'Old Georgie']}]->(CloudAtlas),\n",
    "  (HalleB)-[:ACTED_IN {roles:['Luisa Rey', 'Jocasta Ayrs', 'Ovid', 'Meronym']}]->(CloudAtlas),\n",
    "  (JimB)-[:ACTED_IN {roles:['Vyvyan Ayrs', 'Captain Molyneux', 'Timothy Cavendish']}]->(CloudAtlas),\n",
    "  (TomT)-[:DIRECTED]->(CloudAtlas),\n",
    "  (AndyW)-[:DIRECTED]->(CloudAtlas),\n",
    "  (LanaW)-[:DIRECTED]->(CloudAtlas)\n",
    "CREATE (TheDaVinciCode:Movie {title:'The Da Vinci Code', released:2006, tagline:'Break The Codes'})\n",
    "CREATE (IanM:Person {name:'Ian McKellen', born:1939})\n",
    "CREATE (AudreyT:Person {name:'Audrey Tautou', born:1976})\n",
    "CREATE (PaulB:Person {name:'Paul Bettany', born:1971})\n",
    "CREATE (RonH:Person {name:'Ron Howard', born:1954})\n",
    "CREATE\n",
    "  (TomH)-[:ACTED_IN {roles:['Dr. Robert Langdon']}]->(TheDaVinciCode),\n",
    "  (IanM)-[:ACTED_IN {roles:['Sir Leight Teabing']}]->(TheDaVinciCode),\n",
    "  (AudreyT)-[:ACTED_IN {roles:['Sophie Neveu']}]->(TheDaVinciCode),\n",
    "  (PaulB)-[:ACTED_IN {roles:['Silas']}]->(TheDaVinciCode),\n",
    "  (RonH)-[:DIRECTED]->(TheDaVinciCode)\n",
    "CREATE (VforVendetta:Movie {title:'V for Vendetta', released:2006, tagline:'Freedom! Forever!'})\n",
    "CREATE (NatalieP:Person {name:'Natalie Portman', born:1981})\n",
    "CREATE (StephenR:Person {name:'Stephen Rea', born:1946})\n",
    "CREATE (JohnH:Person {name:'John Hurt', born:1940})\n",
    "CREATE (BenM:Person {name: 'Ben Miles', born:1967})\n",
    "CREATE\n",
    "  (Hugo)-[:ACTED_IN {roles:['V']}]->(VforVendetta),\n",
    "  (NatalieP)-[:ACTED_IN {roles:['Evey Hammond']}]->(VforVendetta),\n",
    "  (StephenR)-[:ACTED_IN {roles:['Eric Finch']}]->(VforVendetta),\n",
    "  (JohnH)-[:ACTED_IN {roles:['High Chancellor Adam Sutler']}]->(VforVendetta),\n",
    "  (BenM)-[:ACTED_IN {roles:['Dascomb']}]->(VforVendetta),\n",
    "  (JamesM)-[:DIRECTED]->(VforVendetta),\n",
    "  (AndyW)-[:PRODUCED]->(VforVendetta),\n",
    "  (LanaW)-[:PRODUCED]->(VforVendetta),\n",
    "  (JoelS)-[:PRODUCED]->(VforVendetta),\n",
    "  (AndyW)-[:WROTE]->(VforVendetta),\n",
    "  (LanaW)-[:WROTE]->(VforVendetta)\n",
    "CREATE (SpeedRacer:Movie {title:'Speed Racer', released:2008, tagline:'Speed has no limits'})\n",
    "CREATE (EmileH:Person {name:'Emile Hirsch', born:1985})\n",
    "CREATE (JohnG:Person {name:'John Goodman', born:1960})\n",
    "CREATE (SusanS:Person {name:'Susan Sarandon', born:1946})\n",
    "CREATE (MatthewF:Person {name:'Matthew Fox', born:1966})\n",
    "CREATE (ChristinaR:Person {name:'Christina Ricci', born:1980})\n",
    "CREATE (Rain:Person {name:'Rain', born:1982})\n",
    "CREATE\n",
    "  (EmileH)-[:ACTED_IN {roles:['Speed Racer']}]->(SpeedRacer),\n",
    "  (JohnG)-[:ACTED_IN {roles:['Pops']}]->(SpeedRacer),\n",
    "  (SusanS)-[:ACTED_IN {roles:['Mom']}]->(SpeedRacer),\n",
    "  (MatthewF)-[:ACTED_IN {roles:['Racer X']}]->(SpeedRacer),\n",
    "  (ChristinaR)-[:ACTED_IN {roles:['Trixie']}]->(SpeedRacer),\n",
    "  (Rain)-[:ACTED_IN {roles:['Taejo Togokahn']}]->(SpeedRacer),\n",
    "  (BenM)-[:ACTED_IN {roles:['Cass Jones']}]->(SpeedRacer),\n",
    "  (AndyW)-[:DIRECTED]->(SpeedRacer),\n",
    "  (LanaW)-[:DIRECTED]->(SpeedRacer),\n",
    "  (AndyW)-[:WROTE]->(SpeedRacer),\n",
    "  (LanaW)-[:WROTE]->(SpeedRacer),\n",
    "  (JoelS)-[:PRODUCED]->(SpeedRacer)\n",
    "CREATE (NinjaAssassin:Movie {title:'Ninja Assassin', released:2009, tagline:'Prepare to enter a secret world of assassins'})\n",
    "CREATE (NaomieH:Person {name:'Naomie Harris'})\n",
    "CREATE\n",
    "  (Rain)-[:ACTED_IN {roles:['Raizo']}]->(NinjaAssassin),\n",
    "  (NaomieH)-[:ACTED_IN {roles:['Mika Coretti']}]->(NinjaAssassin),\n",
    "  (RickY)-[:ACTED_IN {roles:['Takeshi']}]->(NinjaAssassin),\n",
    "  (BenM)-[:ACTED_IN {roles:['Ryan Maslow']}]->(NinjaAssassin),\n",
    "  (JamesM)-[:DIRECTED]->(NinjaAssassin),\n",
    "  (AndyW)-[:PRODUCED]->(NinjaAssassin),\n",
    "  (LanaW)-[:PRODUCED]->(NinjaAssassin),\n",
    "  (JoelS)-[:PRODUCED]->(NinjaAssassin)\n",
    "CREATE (TheGreenMile:Movie {title:'The Green Mile', released:1999, tagline:\"Walk a mile you'll never forget.\"})\n",
    "CREATE (MichaelD:Person {name:'Michael Clarke Duncan', born:1957})\n",
    "CREATE (DavidM:Person {name:'David Morse', born:1953})\n",
    "CREATE (SamR:Person {name:'Sam Rockwell', born:1968})\n",
    "CREATE (GaryS:Person {name:'Gary Sinise', born:1955})\n",
    "CREATE (PatriciaC:Person {name:'Patricia Clarkson', born:1959})\n",
    "CREATE (FrankD:Person {name:'Frank Darabont', born:1959})\n",
    "CREATE\n",
    "  (TomH)-[:ACTED_IN {roles:['Paul Edgecomb']}]->(TheGreenMile),\n",
    "  (MichaelD)-[:ACTED_IN {roles:['John Coffey']}]->(TheGreenMile),\n",
    "  (DavidM)-[:ACTED_IN {roles:['Brutus \"Brutal\" Howell']}]->(TheGreenMile),\n",
    "  (BonnieH)-[:ACTED_IN {roles:['Jan Edgecomb']}]->(TheGreenMile),\n",
    "  (JamesC)-[:ACTED_IN {roles:['Warden Hal Moores']}]->(TheGreenMile),\n",
    "  (SamR)-[:ACTED_IN {roles:['\"Wild Bill\" Wharton']}]->(TheGreenMile),\n",
    "  (GaryS)-[:ACTED_IN {roles:['Burt Hammersmith']}]->(TheGreenMile),\n",
    "  (PatriciaC)-[:ACTED_IN {roles:['Melinda Moores']}]->(TheGreenMile),\n",
    "  (FrankD)-[:DIRECTED]->(TheGreenMile)\n",
    "CREATE (FrostNixon:Movie {title:'Frost/Nixon', released:2008, tagline:'400 million people were waiting for the truth.'})\n",
    "CREATE (FrankL:Person {name:'Frank Langella', born:1938})\n",
    "CREATE (MichaelS:Person {name:'Michael Sheen', born:1969})\n",
    "CREATE (OliverP:Person {name:'Oliver Platt', born:1960})\n",
    "CREATE\n",
    "  (FrankL)-[:ACTED_IN {roles:['Richard Nixon']}]->(FrostNixon),\n",
    "  (MichaelS)-[:ACTED_IN {roles:['David Frost']}]->(FrostNixon),\n",
    "  (KevinB)-[:ACTED_IN {roles:['Jack Brennan']}]->(FrostNixon),\n",
    "  (OliverP)-[:ACTED_IN {roles:['Bob Zelnick']}]->(FrostNixon),\n",
    "  (SamR)-[:ACTED_IN {roles:['James Reston, Jr.']}]->(FrostNixon),\n",
    "  (RonH)-[:DIRECTED]->(FrostNixon)\n",
    "CREATE (Hoffa:Movie {title:'Hoffa', released:1992, tagline:\"He didn't want law. He wanted justice.\"})\n",
    "CREATE (DannyD:Person {name:'Danny DeVito', born:1944})\n",
    "CREATE (JohnR:Person {name:'John C. Reilly', born:1965})\n",
    "CREATE\n",
    "  (JackN)-[:ACTED_IN {roles:['Hoffa']}]->(Hoffa),\n",
    "  (DannyD)-[:ACTED_IN {roles:['Robert \"Bobby\" Ciaro']}]->(Hoffa),\n",
    "  (JTW)-[:ACTED_IN {roles:['Frank Fitzsimmons']}]->(Hoffa),\n",
    "  (JohnR)-[:ACTED_IN {roles:['Peter \"Pete\" Connelly']}]->(Hoffa),\n",
    "  (DannyD)-[:DIRECTED]->(Hoffa)\n",
    "CREATE (Apollo13:Movie {title:'Apollo 13', released:1995, tagline:'Houston, we have a problem.'})\n",
    "CREATE (EdH:Person {name:'Ed Harris', born:1950})\n",
    "CREATE (BillPax:Person {name:'Bill Paxton', born:1955})\n",
    "CREATE\n",
    "  (TomH)-[:ACTED_IN {roles:['Jim Lovell']}]->(Apollo13),\n",
    "  (KevinB)-[:ACTED_IN {roles:['Jack Swigert']}]->(Apollo13),\n",
    "  (EdH)-[:ACTED_IN {roles:['Gene Kranz']}]->(Apollo13),\n",
    "  (BillPax)-[:ACTED_IN {roles:['Fred Haise']}]->(Apollo13),\n",
    "  (GaryS)-[:ACTED_IN {roles:['Ken Mattingly']}]->(Apollo13),\n",
    "  (RonH)-[:DIRECTED]->(Apollo13)\n",
    "CREATE (Twister:Movie {title:'Twister', released:1996, tagline:\"Don't Breathe. Don't Look Back.\"})\n",
    "CREATE (PhilipH:Person {name:'Philip Seymour Hoffman', born:1967})\n",
    "CREATE (JanB:Person {name:'Jan de Bont', born:1943})\n",
    "CREATE\n",
    "  (BillPax)-[:ACTED_IN {roles:['Bill Harding']}]->(Twister),\n",
    "  (HelenH)-[:ACTED_IN {roles:['Dr. Jo Harding']}]->(Twister),\n",
    "  (ZachG)-[:ACTED_IN {roles:['Eddie']}]->(Twister),\n",
    "  (PhilipH)-[:ACTED_IN {roles:['Dustin \"Dusty\" Davis']}]->(Twister),\n",
    "  (JanB)-[:DIRECTED]->(Twister)\n",
    "CREATE (CastAway:Movie {title:'Cast Away', released:2000, tagline:'At the edge of the world, his journey begins.'})\n",
    "CREATE (RobertZ:Person {name:'Robert Zemeckis', born:1951})\n",
    "CREATE\n",
    "  (TomH)-[:ACTED_IN {roles:['Chuck Noland']}]->(CastAway),\n",
    "  (HelenH)-[:ACTED_IN {roles:['Kelly Frears']}]->(CastAway),\n",
    "  (RobertZ)-[:DIRECTED]->(CastAway)\n",
    "CREATE (OneFlewOvertheCuckoosNest:Movie {title:\"One Flew Over the Cuckoo's Nest\", released:1975, tagline:\"If he's crazy, what does that make you?\"})\n",
    "CREATE (MilosF:Person {name:'Milos Forman', born:1932})\n",
    "CREATE\n",
    "  (JackN)-[:ACTED_IN {roles:['Randle McMurphy']}]->(OneFlewOvertheCuckoosNest),\n",
    "  (DannyD)-[:ACTED_IN {roles:['Martini']}]->(OneFlewOvertheCuckoosNest),\n",
    "  (MilosF)-[:DIRECTED]->(OneFlewOvertheCuckoosNest)\n",
    "CREATE (SomethingsGottaGive:Movie {title:\"Something's Gotta Give\", released:2003})\n",
    "CREATE (DianeK:Person {name:'Diane Keaton', born:1946})\n",
    "CREATE (NancyM:Person {name:'Nancy Meyers', born:1949})\n",
    "CREATE\n",
    "  (JackN)-[:ACTED_IN {roles:['Harry Sanborn']}]->(SomethingsGottaGive),\n",
    "  (DianeK)-[:ACTED_IN {roles:['Erica Barry']}]->(SomethingsGottaGive),\n",
    "  (Keanu)-[:ACTED_IN {roles:['Julian Mercer']}]->(SomethingsGottaGive),\n",
    "  (NancyM)-[:DIRECTED]->(SomethingsGottaGive),\n",
    "  (NancyM)-[:PRODUCED]->(SomethingsGottaGive),\n",
    "  (NancyM)-[:WROTE]->(SomethingsGottaGive)\n",
    "CREATE (BicentennialMan:Movie {title:'Bicentennial Man', released:1999, tagline:\"One robot's 200 year journey to become an ordinary man.\"})\n",
    "CREATE (ChrisC:Person {name:'Chris Columbus', born:1958})\n",
    "CREATE\n",
    "  (Robin)-[:ACTED_IN {roles:['Andrew Marin']}]->(BicentennialMan),\n",
    "  (OliverP)-[:ACTED_IN {roles:['Rupert Burns']}]->(BicentennialMan),\n",
    "  (ChrisC)-[:DIRECTED]->(BicentennialMan)\n",
    "CREATE (CharlieWilsonsWar:Movie {title:\"Charlie Wilson's War\", released:2007, tagline:\"A stiff drink. A little mascara. A lot of nerve. Who said they couldn't bring down the Soviet empire.\"})\n",
    "CREATE (JuliaR:Person {name:'Julia Roberts', born:1967})\n",
    "CREATE\n",
    "  (TomH)-[:ACTED_IN {roles:['Rep. Charlie Wilson']}]->(CharlieWilsonsWar),\n",
    "  (JuliaR)-[:ACTED_IN {roles:['Joanne Herring']}]->(CharlieWilsonsWar),\n",
    "  (PhilipH)-[:ACTED_IN {roles:['Gust Avrakotos']}]->(CharlieWilsonsWar),\n",
    "  (MikeN)-[:DIRECTED]->(CharlieWilsonsWar)\n",
    "CREATE (ThePolarExpress:Movie {title:'The Polar Express', released:2004, tagline:'This Holiday Season… Believe'})\n",
    "CREATE\n",
    "  (TomH)-[:ACTED_IN {roles:['Hero Boy', 'Father', 'Conductor', 'Hobo', 'Scrooge', 'Santa Claus']}]->(ThePolarExpress),\n",
    "  (RobertZ)-[:DIRECTED]->(ThePolarExpress)\n",
    "CREATE (ALeagueofTheirOwn:Movie {title:'A League of Their Own', released:1992, tagline:'Once in a lifetime you get a chance to do something different.'})\n",
    "CREATE (Madonna:Person {name:'Madonna', born:1954})\n",
    "CREATE (GeenaD:Person {name:'Geena Davis', born:1956})\n",
    "CREATE (LoriP:Person {name:'Lori Petty', born:1963})\n",
    "CREATE (PennyM:Person {name:'Penny Marshall', born:1943})\n",
    "CREATE\n",
    "  (TomH)-[:ACTED_IN {roles:['Jimmy Dugan']}]->(ALeagueofTheirOwn),\n",
    "  (GeenaD)-[:ACTED_IN {roles:['Dottie Hinson']}]->(ALeagueofTheirOwn),\n",
    "  (LoriP)-[:ACTED_IN {roles:['Kit Keller']}]->(ALeagueofTheirOwn),\n",
    "  (RosieO)-[:ACTED_IN {roles:['Doris Murphy']}]->(ALeagueofTheirOwn),\n",
    "  (Madonna)-[:ACTED_IN {roles:['\"All the Way\" Mae Mordabito']}]->(ALeagueofTheirOwn),\n",
    "  (BillPax)-[:ACTED_IN {roles:['Bob Hinson']}]->(ALeagueofTheirOwn),\n",
    "  (PennyM)-[:DIRECTED]->(ALeagueofTheirOwn)\n",
    "CREATE (PaulBlythe:Person {name:'Paul Blythe'})\n",
    "CREATE (AngelaScope:Person {name:'Angela Scope'})\n",
    "CREATE (JessicaThompson:Person {name:'Jessica Thompson'})\n",
    "CREATE (JamesThompson:Person {name:'James Thompson'})\n",
    "CREATE\n",
    "  (JamesThompson)-[:FOLLOWS]->(JessicaThompson),\n",
    "  (AngelaScope)-[:FOLLOWS]->(JessicaThompson),\n",
    "  (PaulBlythe)-[:FOLLOWS]->(AngelaScope)\n",
    "CREATE\n",
    "  (JessicaThompson)-[:REVIEWED {summary:'An amazing journey', rating:95}]->(CloudAtlas),\n",
    "  (JessicaThompson)-[:REVIEWED {summary:'Silly, but fun', rating:65}]->(TheReplacements),\n",
    "  (JamesThompson)-[:REVIEWED {summary:'The coolest football movie ever', rating:100}]->(TheReplacements),\n",
    "  (AngelaScope)-[:REVIEWED {summary:'Pretty funny at times', rating:62}]->(TheReplacements),\n",
    "  (JessicaThompson)-[:REVIEWED {summary:'Dark, but compelling', rating:85}]->(Unforgiven),\n",
    "  (JessicaThompson)-[:REVIEWED {summary:\"Slapstick redeemed only by the Robin Williams and Gene Hackman's stellar performances\", rating:45}]->(TheBirdcage),\n",
    "  (JessicaThompson)-[:REVIEWED {summary:'A solid romp', rating:68}]->(TheDaVinciCode),\n",
    "  (JamesThompson)-[:REVIEWED {summary:'Fun, but a little far fetched', rating:65}]->(TheDaVinciCode)\n",
    "// Parasite movie and cast\n",
    "CREATE (Parasite:Movie {title:'Parasite', released:2019, tagline:'Act like you own the place'})\n",
    "CREATE (KangHoSong:Person {name:'Kang-ho Song'})\n",
    "CREATE (SunKyunLee:Person {name:'Sun-kyun Lee'})\n",
    "CREATE (YeoJeongJo:Person {name:'Yeo-jeong Jo'})\n",
    "CREATE (WooSikChoi:Person {name:'Woo-sik Choi'})\n",
    "CREATE (SoDamPark:Person  {name:'So-dam Park'})\n",
    "CREATE\n",
    "  (KangHoSong)-[:ACTED_IN {roles:['Ki Taek']}]->(Parasite),\n",
    "  (SunKyunLee)-[:ACTED_IN {roles:['Dong Ik']}]->(Parasite),\n",
    "  (YeoJeongJo)-[:ACTED_IN {roles:['Yeon Kyo']}]->(Parasite),\n",
    "  (WooSikChoi)-[:ACTED_IN {roles:['Ki Woo']}]->(Parasite),\n",
    "  (SoDamPark)-[:ACTED_IN {roles:['Ki Jung']}]->(Parasite)\n",
    "// Joker movie and cast\n",
    "CREATE (Joker:Movie {title:'Joker', released:2019, tagline:'Put on a happy face'})\n",
    "CREATE (JoaquinPhoenix:Person {name:'Joaquin Phoenix'})\n",
    "CREATE (RobertDeNiro:Person {name:'Robert De Niro'})\n",
    "CREATE (ZazieBeetz:Person {name:'Zazie Beetz'})\n",
    "CREATE\n",
    "  (JoaquinPhoenix)-[:ACTED_IN {roles:['Arthur Fleck']}]->(Joker),\n",
    "  (RobertDeNiro)-[:ACTED_IN {roles:['Murray Franklin']}]->(Joker),\n",
    "  (ZazieBeetz)-[:ACTED_IN {roles:['Sophie Dumond']}]->(Joker)\n",
    ";\n",
    "```"
   ]
  }
 ],
 "metadata": {
  "kernelspec": {
   "display_name": "base",
   "language": "python",
   "name": "python3"
  },
  "language_info": {
   "codemirror_mode": {
    "name": "ipython",
    "version": 3
   },
   "file_extension": ".py",
   "mimetype": "text/x-python",
   "name": "python",
   "nbconvert_exporter": "python",
   "pygments_lexer": "ipython3",
   "version": "3.12.7"
  }
 },
 "nbformat": 4,
 "nbformat_minor": 5
}
